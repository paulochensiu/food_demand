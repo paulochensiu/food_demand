{
  "nbformat": 4,
  "nbformat_minor": 0,
  "metadata": {
    "colab": {
      "name": "desafio_james.ipynb",
      "provenance": [],
      "authorship_tag": "ABX9TyN/zqGGdXzikJX2O91SolOH"
    },
    "kernelspec": {
      "name": "python3",
      "display_name": "Python 3"
    }
  },
  "cells": [
    {
      "cell_type": "markdown",
      "metadata": {
        "id": "IIgH1dyrHKMf"
      },
      "source": [
        "## Importando as bibliotecas"
      ]
    },
    {
      "cell_type": "code",
      "metadata": {
        "id": "9hFp1Zf4wYNP"
      },
      "source": [
        "# Importar bibliotecas\n",
        "\n",
        "import numpy as np\n",
        "import pandas as pd\n",
        "import matplotlib.pyplot as plt\n",
        "import seaborn as sns"
      ],
      "execution_count": null,
      "outputs": []
    },
    {
      "cell_type": "markdown",
      "metadata": {
        "id": "LdxXrgTrHWSx"
      },
      "source": [
        "# Carregando os dados"
      ]
    },
    {
      "cell_type": "code",
      "metadata": {
        "id": "TeDEb6Z7xBnc"
      },
      "source": [
        "# Carregar datasets\n",
        "\n",
        "center_info = pd.read_csv('/content/fulfilment_center_info.csv')\n",
        "meal_info = pd.read_csv('/content/meal_info.csv')\n",
        "test_data = pd.read_csv('/content/test.csv')\n",
        "train_data = pd.read_csv('/content/train.csv')"
      ],
      "execution_count": null,
      "outputs": []
    },
    {
      "cell_type": "markdown",
      "metadata": {
        "id": "Y3KogOBiHbxJ"
      },
      "source": [
        "# Análise Exploratória dos Dados"
      ]
    },
    {
      "cell_type": "code",
      "metadata": {
        "colab": {
          "base_uri": "https://localhost:8080/",
          "height": 419
        },
        "id": "ofDVm-G4xaID",
        "outputId": "58019238-0a3f-4edb-a5ed-3e07c9524b6f"
      },
      "source": [
        "# Visualizando os dados dos centros de distribuição\n",
        "\n",
        "center_info"
      ],
      "execution_count": null,
      "outputs": [
        {
          "output_type": "execute_result",
          "data": {
            "text/html": [
              "<div>\n",
              "<style scoped>\n",
              "    .dataframe tbody tr th:only-of-type {\n",
              "        vertical-align: middle;\n",
              "    }\n",
              "\n",
              "    .dataframe tbody tr th {\n",
              "        vertical-align: top;\n",
              "    }\n",
              "\n",
              "    .dataframe thead th {\n",
              "        text-align: right;\n",
              "    }\n",
              "</style>\n",
              "<table border=\"1\" class=\"dataframe\">\n",
              "  <thead>\n",
              "    <tr style=\"text-align: right;\">\n",
              "      <th></th>\n",
              "      <th>center_id</th>\n",
              "      <th>city_code</th>\n",
              "      <th>region_code</th>\n",
              "      <th>center_type</th>\n",
              "      <th>op_area</th>\n",
              "    </tr>\n",
              "  </thead>\n",
              "  <tbody>\n",
              "    <tr>\n",
              "      <th>0</th>\n",
              "      <td>11</td>\n",
              "      <td>679</td>\n",
              "      <td>56</td>\n",
              "      <td>TYPE_A</td>\n",
              "      <td>3.7</td>\n",
              "    </tr>\n",
              "    <tr>\n",
              "      <th>1</th>\n",
              "      <td>13</td>\n",
              "      <td>590</td>\n",
              "      <td>56</td>\n",
              "      <td>TYPE_B</td>\n",
              "      <td>6.7</td>\n",
              "    </tr>\n",
              "    <tr>\n",
              "      <th>2</th>\n",
              "      <td>124</td>\n",
              "      <td>590</td>\n",
              "      <td>56</td>\n",
              "      <td>TYPE_C</td>\n",
              "      <td>4.0</td>\n",
              "    </tr>\n",
              "    <tr>\n",
              "      <th>3</th>\n",
              "      <td>66</td>\n",
              "      <td>648</td>\n",
              "      <td>34</td>\n",
              "      <td>TYPE_A</td>\n",
              "      <td>4.1</td>\n",
              "    </tr>\n",
              "    <tr>\n",
              "      <th>4</th>\n",
              "      <td>94</td>\n",
              "      <td>632</td>\n",
              "      <td>34</td>\n",
              "      <td>TYPE_C</td>\n",
              "      <td>3.6</td>\n",
              "    </tr>\n",
              "    <tr>\n",
              "      <th>...</th>\n",
              "      <td>...</td>\n",
              "      <td>...</td>\n",
              "      <td>...</td>\n",
              "      <td>...</td>\n",
              "      <td>...</td>\n",
              "    </tr>\n",
              "    <tr>\n",
              "      <th>72</th>\n",
              "      <td>53</td>\n",
              "      <td>590</td>\n",
              "      <td>56</td>\n",
              "      <td>TYPE_A</td>\n",
              "      <td>3.8</td>\n",
              "    </tr>\n",
              "    <tr>\n",
              "      <th>73</th>\n",
              "      <td>30</td>\n",
              "      <td>604</td>\n",
              "      <td>56</td>\n",
              "      <td>TYPE_A</td>\n",
              "      <td>3.5</td>\n",
              "    </tr>\n",
              "    <tr>\n",
              "      <th>74</th>\n",
              "      <td>76</td>\n",
              "      <td>614</td>\n",
              "      <td>85</td>\n",
              "      <td>TYPE_A</td>\n",
              "      <td>3.0</td>\n",
              "    </tr>\n",
              "    <tr>\n",
              "      <th>75</th>\n",
              "      <td>68</td>\n",
              "      <td>676</td>\n",
              "      <td>34</td>\n",
              "      <td>TYPE_B</td>\n",
              "      <td>4.1</td>\n",
              "    </tr>\n",
              "    <tr>\n",
              "      <th>76</th>\n",
              "      <td>51</td>\n",
              "      <td>638</td>\n",
              "      <td>56</td>\n",
              "      <td>TYPE_A</td>\n",
              "      <td>7.0</td>\n",
              "    </tr>\n",
              "  </tbody>\n",
              "</table>\n",
              "<p>77 rows × 5 columns</p>\n",
              "</div>"
            ],
            "text/plain": [
              "    center_id  city_code  region_code center_type  op_area\n",
              "0          11        679           56      TYPE_A      3.7\n",
              "1          13        590           56      TYPE_B      6.7\n",
              "2         124        590           56      TYPE_C      4.0\n",
              "3          66        648           34      TYPE_A      4.1\n",
              "4          94        632           34      TYPE_C      3.6\n",
              "..        ...        ...          ...         ...      ...\n",
              "72         53        590           56      TYPE_A      3.8\n",
              "73         30        604           56      TYPE_A      3.5\n",
              "74         76        614           85      TYPE_A      3.0\n",
              "75         68        676           34      TYPE_B      4.1\n",
              "76         51        638           56      TYPE_A      7.0\n",
              "\n",
              "[77 rows x 5 columns]"
            ]
          },
          "metadata": {
            "tags": []
          },
          "execution_count": 51
        }
      ]
    },
    {
      "cell_type": "code",
      "metadata": {
        "colab": {
          "base_uri": "https://localhost:8080/",
          "height": 1000
        },
        "id": "XozjZTrsySlb",
        "outputId": "8e550ded-09d3-43e1-ee60-1d5369b6f0e9"
      },
      "source": [
        "# Visualizando os dados de tipos de pedidos\n",
        "\n",
        "meal_info"
      ],
      "execution_count": null,
      "outputs": [
        {
          "output_type": "execute_result",
          "data": {
            "text/html": [
              "<div>\n",
              "<style scoped>\n",
              "    .dataframe tbody tr th:only-of-type {\n",
              "        vertical-align: middle;\n",
              "    }\n",
              "\n",
              "    .dataframe tbody tr th {\n",
              "        vertical-align: top;\n",
              "    }\n",
              "\n",
              "    .dataframe thead th {\n",
              "        text-align: right;\n",
              "    }\n",
              "</style>\n",
              "<table border=\"1\" class=\"dataframe\">\n",
              "  <thead>\n",
              "    <tr style=\"text-align: right;\">\n",
              "      <th></th>\n",
              "      <th>meal_id</th>\n",
              "      <th>category</th>\n",
              "      <th>cuisine</th>\n",
              "    </tr>\n",
              "  </thead>\n",
              "  <tbody>\n",
              "    <tr>\n",
              "      <th>0</th>\n",
              "      <td>1885</td>\n",
              "      <td>Beverages</td>\n",
              "      <td>Thai</td>\n",
              "    </tr>\n",
              "    <tr>\n",
              "      <th>1</th>\n",
              "      <td>1993</td>\n",
              "      <td>Beverages</td>\n",
              "      <td>Thai</td>\n",
              "    </tr>\n",
              "    <tr>\n",
              "      <th>2</th>\n",
              "      <td>2539</td>\n",
              "      <td>Beverages</td>\n",
              "      <td>Thai</td>\n",
              "    </tr>\n",
              "    <tr>\n",
              "      <th>3</th>\n",
              "      <td>1248</td>\n",
              "      <td>Beverages</td>\n",
              "      <td>Indian</td>\n",
              "    </tr>\n",
              "    <tr>\n",
              "      <th>4</th>\n",
              "      <td>2631</td>\n",
              "      <td>Beverages</td>\n",
              "      <td>Indian</td>\n",
              "    </tr>\n",
              "    <tr>\n",
              "      <th>5</th>\n",
              "      <td>1311</td>\n",
              "      <td>Extras</td>\n",
              "      <td>Thai</td>\n",
              "    </tr>\n",
              "    <tr>\n",
              "      <th>6</th>\n",
              "      <td>1062</td>\n",
              "      <td>Beverages</td>\n",
              "      <td>Italian</td>\n",
              "    </tr>\n",
              "    <tr>\n",
              "      <th>7</th>\n",
              "      <td>1778</td>\n",
              "      <td>Beverages</td>\n",
              "      <td>Italian</td>\n",
              "    </tr>\n",
              "    <tr>\n",
              "      <th>8</th>\n",
              "      <td>1803</td>\n",
              "      <td>Extras</td>\n",
              "      <td>Thai</td>\n",
              "    </tr>\n",
              "    <tr>\n",
              "      <th>9</th>\n",
              "      <td>1198</td>\n",
              "      <td>Extras</td>\n",
              "      <td>Thai</td>\n",
              "    </tr>\n",
              "    <tr>\n",
              "      <th>10</th>\n",
              "      <td>2707</td>\n",
              "      <td>Beverages</td>\n",
              "      <td>Italian</td>\n",
              "    </tr>\n",
              "    <tr>\n",
              "      <th>11</th>\n",
              "      <td>1847</td>\n",
              "      <td>Soup</td>\n",
              "      <td>Thai</td>\n",
              "    </tr>\n",
              "    <tr>\n",
              "      <th>12</th>\n",
              "      <td>1438</td>\n",
              "      <td>Soup</td>\n",
              "      <td>Thai</td>\n",
              "    </tr>\n",
              "    <tr>\n",
              "      <th>13</th>\n",
              "      <td>2494</td>\n",
              "      <td>Soup</td>\n",
              "      <td>Thai</td>\n",
              "    </tr>\n",
              "    <tr>\n",
              "      <th>14</th>\n",
              "      <td>2760</td>\n",
              "      <td>Other Snacks</td>\n",
              "      <td>Thai</td>\n",
              "    </tr>\n",
              "    <tr>\n",
              "      <th>15</th>\n",
              "      <td>2490</td>\n",
              "      <td>Salad</td>\n",
              "      <td>Italian</td>\n",
              "    </tr>\n",
              "    <tr>\n",
              "      <th>16</th>\n",
              "      <td>1109</td>\n",
              "      <td>Rice Bowl</td>\n",
              "      <td>Indian</td>\n",
              "    </tr>\n",
              "    <tr>\n",
              "      <th>17</th>\n",
              "      <td>2290</td>\n",
              "      <td>Rice Bowl</td>\n",
              "      <td>Indian</td>\n",
              "    </tr>\n",
              "    <tr>\n",
              "      <th>18</th>\n",
              "      <td>1525</td>\n",
              "      <td>Other Snacks</td>\n",
              "      <td>Thai</td>\n",
              "    </tr>\n",
              "    <tr>\n",
              "      <th>19</th>\n",
              "      <td>2704</td>\n",
              "      <td>Other Snacks</td>\n",
              "      <td>Thai</td>\n",
              "    </tr>\n",
              "    <tr>\n",
              "      <th>20</th>\n",
              "      <td>1878</td>\n",
              "      <td>Starters</td>\n",
              "      <td>Thai</td>\n",
              "    </tr>\n",
              "    <tr>\n",
              "      <th>21</th>\n",
              "      <td>2640</td>\n",
              "      <td>Starters</td>\n",
              "      <td>Thai</td>\n",
              "    </tr>\n",
              "    <tr>\n",
              "      <th>22</th>\n",
              "      <td>2577</td>\n",
              "      <td>Starters</td>\n",
              "      <td>Thai</td>\n",
              "    </tr>\n",
              "    <tr>\n",
              "      <th>23</th>\n",
              "      <td>1754</td>\n",
              "      <td>Sandwich</td>\n",
              "      <td>Italian</td>\n",
              "    </tr>\n",
              "    <tr>\n",
              "      <th>24</th>\n",
              "      <td>1971</td>\n",
              "      <td>Sandwich</td>\n",
              "      <td>Italian</td>\n",
              "    </tr>\n",
              "    <tr>\n",
              "      <th>25</th>\n",
              "      <td>2306</td>\n",
              "      <td>Pasta</td>\n",
              "      <td>Italian</td>\n",
              "    </tr>\n",
              "    <tr>\n",
              "      <th>26</th>\n",
              "      <td>2139</td>\n",
              "      <td>Beverages</td>\n",
              "      <td>Indian</td>\n",
              "    </tr>\n",
              "    <tr>\n",
              "      <th>27</th>\n",
              "      <td>2826</td>\n",
              "      <td>Sandwich</td>\n",
              "      <td>Italian</td>\n",
              "    </tr>\n",
              "    <tr>\n",
              "      <th>28</th>\n",
              "      <td>2664</td>\n",
              "      <td>Salad</td>\n",
              "      <td>Italian</td>\n",
              "    </tr>\n",
              "    <tr>\n",
              "      <th>29</th>\n",
              "      <td>2569</td>\n",
              "      <td>Salad</td>\n",
              "      <td>Italian</td>\n",
              "    </tr>\n",
              "    <tr>\n",
              "      <th>30</th>\n",
              "      <td>1230</td>\n",
              "      <td>Beverages</td>\n",
              "      <td>Continental</td>\n",
              "    </tr>\n",
              "    <tr>\n",
              "      <th>31</th>\n",
              "      <td>1207</td>\n",
              "      <td>Beverages</td>\n",
              "      <td>Continental</td>\n",
              "    </tr>\n",
              "    <tr>\n",
              "      <th>32</th>\n",
              "      <td>2322</td>\n",
              "      <td>Beverages</td>\n",
              "      <td>Continental</td>\n",
              "    </tr>\n",
              "    <tr>\n",
              "      <th>33</th>\n",
              "      <td>2492</td>\n",
              "      <td>Desert</td>\n",
              "      <td>Indian</td>\n",
              "    </tr>\n",
              "    <tr>\n",
              "      <th>34</th>\n",
              "      <td>1216</td>\n",
              "      <td>Pasta</td>\n",
              "      <td>Italian</td>\n",
              "    </tr>\n",
              "    <tr>\n",
              "      <th>35</th>\n",
              "      <td>1727</td>\n",
              "      <td>Rice Bowl</td>\n",
              "      <td>Indian</td>\n",
              "    </tr>\n",
              "    <tr>\n",
              "      <th>36</th>\n",
              "      <td>1902</td>\n",
              "      <td>Biryani</td>\n",
              "      <td>Indian</td>\n",
              "    </tr>\n",
              "    <tr>\n",
              "      <th>37</th>\n",
              "      <td>1247</td>\n",
              "      <td>Biryani</td>\n",
              "      <td>Indian</td>\n",
              "    </tr>\n",
              "    <tr>\n",
              "      <th>38</th>\n",
              "      <td>2304</td>\n",
              "      <td>Desert</td>\n",
              "      <td>Indian</td>\n",
              "    </tr>\n",
              "    <tr>\n",
              "      <th>39</th>\n",
              "      <td>1543</td>\n",
              "      <td>Desert</td>\n",
              "      <td>Indian</td>\n",
              "    </tr>\n",
              "    <tr>\n",
              "      <th>40</th>\n",
              "      <td>1770</td>\n",
              "      <td>Biryani</td>\n",
              "      <td>Indian</td>\n",
              "    </tr>\n",
              "    <tr>\n",
              "      <th>41</th>\n",
              "      <td>2126</td>\n",
              "      <td>Pasta</td>\n",
              "      <td>Italian</td>\n",
              "    </tr>\n",
              "    <tr>\n",
              "      <th>42</th>\n",
              "      <td>1558</td>\n",
              "      <td>Pizza</td>\n",
              "      <td>Continental</td>\n",
              "    </tr>\n",
              "    <tr>\n",
              "      <th>43</th>\n",
              "      <td>2581</td>\n",
              "      <td>Pizza</td>\n",
              "      <td>Continental</td>\n",
              "    </tr>\n",
              "    <tr>\n",
              "      <th>44</th>\n",
              "      <td>1962</td>\n",
              "      <td>Pizza</td>\n",
              "      <td>Continental</td>\n",
              "    </tr>\n",
              "    <tr>\n",
              "      <th>45</th>\n",
              "      <td>1571</td>\n",
              "      <td>Fish</td>\n",
              "      <td>Continental</td>\n",
              "    </tr>\n",
              "    <tr>\n",
              "      <th>46</th>\n",
              "      <td>2956</td>\n",
              "      <td>Fish</td>\n",
              "      <td>Continental</td>\n",
              "    </tr>\n",
              "    <tr>\n",
              "      <th>47</th>\n",
              "      <td>2104</td>\n",
              "      <td>Fish</td>\n",
              "      <td>Continental</td>\n",
              "    </tr>\n",
              "    <tr>\n",
              "      <th>48</th>\n",
              "      <td>2444</td>\n",
              "      <td>Seafood</td>\n",
              "      <td>Continental</td>\n",
              "    </tr>\n",
              "    <tr>\n",
              "      <th>49</th>\n",
              "      <td>2867</td>\n",
              "      <td>Seafood</td>\n",
              "      <td>Continental</td>\n",
              "    </tr>\n",
              "    <tr>\n",
              "      <th>50</th>\n",
              "      <td>1445</td>\n",
              "      <td>Seafood</td>\n",
              "      <td>Continental</td>\n",
              "    </tr>\n",
              "  </tbody>\n",
              "</table>\n",
              "</div>"
            ],
            "text/plain": [
              "    meal_id      category      cuisine\n",
              "0      1885     Beverages         Thai\n",
              "1      1993     Beverages         Thai\n",
              "2      2539     Beverages         Thai\n",
              "3      1248     Beverages       Indian\n",
              "4      2631     Beverages       Indian\n",
              "5      1311        Extras         Thai\n",
              "6      1062     Beverages      Italian\n",
              "7      1778     Beverages      Italian\n",
              "8      1803        Extras         Thai\n",
              "9      1198        Extras         Thai\n",
              "10     2707     Beverages      Italian\n",
              "11     1847          Soup         Thai\n",
              "12     1438          Soup         Thai\n",
              "13     2494          Soup         Thai\n",
              "14     2760  Other Snacks         Thai\n",
              "15     2490         Salad      Italian\n",
              "16     1109     Rice Bowl       Indian\n",
              "17     2290     Rice Bowl       Indian\n",
              "18     1525  Other Snacks         Thai\n",
              "19     2704  Other Snacks         Thai\n",
              "20     1878      Starters         Thai\n",
              "21     2640      Starters         Thai\n",
              "22     2577      Starters         Thai\n",
              "23     1754      Sandwich      Italian\n",
              "24     1971      Sandwich      Italian\n",
              "25     2306         Pasta      Italian\n",
              "26     2139     Beverages       Indian\n",
              "27     2826      Sandwich      Italian\n",
              "28     2664         Salad      Italian\n",
              "29     2569         Salad      Italian\n",
              "30     1230     Beverages  Continental\n",
              "31     1207     Beverages  Continental\n",
              "32     2322     Beverages  Continental\n",
              "33     2492        Desert       Indian\n",
              "34     1216         Pasta      Italian\n",
              "35     1727     Rice Bowl       Indian\n",
              "36     1902       Biryani       Indian\n",
              "37     1247       Biryani       Indian\n",
              "38     2304        Desert       Indian\n",
              "39     1543        Desert       Indian\n",
              "40     1770       Biryani       Indian\n",
              "41     2126         Pasta      Italian\n",
              "42     1558         Pizza  Continental\n",
              "43     2581         Pizza  Continental\n",
              "44     1962         Pizza  Continental\n",
              "45     1571          Fish  Continental\n",
              "46     2956          Fish  Continental\n",
              "47     2104          Fish  Continental\n",
              "48     2444       Seafood  Continental\n",
              "49     2867       Seafood  Continental\n",
              "50     1445       Seafood  Continental"
            ]
          },
          "metadata": {
            "tags": []
          },
          "execution_count": 52
        }
      ]
    },
    {
      "cell_type": "code",
      "metadata": {
        "colab": {
          "base_uri": "https://localhost:8080/",
          "height": 419
        },
        "id": "uRcoW94PztXH",
        "outputId": "65349a9f-6de3-4f9d-af2e-2c60aec78d52"
      },
      "source": [
        "# Visualizando os dados de pedidos\n",
        "\n",
        "train_data"
      ],
      "execution_count": null,
      "outputs": [
        {
          "output_type": "execute_result",
          "data": {
            "text/html": [
              "<div>\n",
              "<style scoped>\n",
              "    .dataframe tbody tr th:only-of-type {\n",
              "        vertical-align: middle;\n",
              "    }\n",
              "\n",
              "    .dataframe tbody tr th {\n",
              "        vertical-align: top;\n",
              "    }\n",
              "\n",
              "    .dataframe thead th {\n",
              "        text-align: right;\n",
              "    }\n",
              "</style>\n",
              "<table border=\"1\" class=\"dataframe\">\n",
              "  <thead>\n",
              "    <tr style=\"text-align: right;\">\n",
              "      <th></th>\n",
              "      <th>id</th>\n",
              "      <th>week</th>\n",
              "      <th>center_id</th>\n",
              "      <th>meal_id</th>\n",
              "      <th>checkout_price</th>\n",
              "      <th>base_price</th>\n",
              "      <th>emailer_for_promotion</th>\n",
              "      <th>homepage_featured</th>\n",
              "      <th>num_orders</th>\n",
              "    </tr>\n",
              "  </thead>\n",
              "  <tbody>\n",
              "    <tr>\n",
              "      <th>0</th>\n",
              "      <td>1379560</td>\n",
              "      <td>1</td>\n",
              "      <td>55</td>\n",
              "      <td>1885</td>\n",
              "      <td>136.83</td>\n",
              "      <td>152.29</td>\n",
              "      <td>0</td>\n",
              "      <td>0</td>\n",
              "      <td>177</td>\n",
              "    </tr>\n",
              "    <tr>\n",
              "      <th>1</th>\n",
              "      <td>1466964</td>\n",
              "      <td>1</td>\n",
              "      <td>55</td>\n",
              "      <td>1993</td>\n",
              "      <td>136.83</td>\n",
              "      <td>135.83</td>\n",
              "      <td>0</td>\n",
              "      <td>0</td>\n",
              "      <td>270</td>\n",
              "    </tr>\n",
              "    <tr>\n",
              "      <th>2</th>\n",
              "      <td>1346989</td>\n",
              "      <td>1</td>\n",
              "      <td>55</td>\n",
              "      <td>2539</td>\n",
              "      <td>134.86</td>\n",
              "      <td>135.86</td>\n",
              "      <td>0</td>\n",
              "      <td>0</td>\n",
              "      <td>189</td>\n",
              "    </tr>\n",
              "    <tr>\n",
              "      <th>3</th>\n",
              "      <td>1338232</td>\n",
              "      <td>1</td>\n",
              "      <td>55</td>\n",
              "      <td>2139</td>\n",
              "      <td>339.50</td>\n",
              "      <td>437.53</td>\n",
              "      <td>0</td>\n",
              "      <td>0</td>\n",
              "      <td>54</td>\n",
              "    </tr>\n",
              "    <tr>\n",
              "      <th>4</th>\n",
              "      <td>1448490</td>\n",
              "      <td>1</td>\n",
              "      <td>55</td>\n",
              "      <td>2631</td>\n",
              "      <td>243.50</td>\n",
              "      <td>242.50</td>\n",
              "      <td>0</td>\n",
              "      <td>0</td>\n",
              "      <td>40</td>\n",
              "    </tr>\n",
              "    <tr>\n",
              "      <th>...</th>\n",
              "      <td>...</td>\n",
              "      <td>...</td>\n",
              "      <td>...</td>\n",
              "      <td>...</td>\n",
              "      <td>...</td>\n",
              "      <td>...</td>\n",
              "      <td>...</td>\n",
              "      <td>...</td>\n",
              "      <td>...</td>\n",
              "    </tr>\n",
              "    <tr>\n",
              "      <th>456543</th>\n",
              "      <td>1271326</td>\n",
              "      <td>145</td>\n",
              "      <td>61</td>\n",
              "      <td>1543</td>\n",
              "      <td>484.09</td>\n",
              "      <td>484.09</td>\n",
              "      <td>0</td>\n",
              "      <td>0</td>\n",
              "      <td>68</td>\n",
              "    </tr>\n",
              "    <tr>\n",
              "      <th>456544</th>\n",
              "      <td>1062036</td>\n",
              "      <td>145</td>\n",
              "      <td>61</td>\n",
              "      <td>2304</td>\n",
              "      <td>482.09</td>\n",
              "      <td>482.09</td>\n",
              "      <td>0</td>\n",
              "      <td>0</td>\n",
              "      <td>42</td>\n",
              "    </tr>\n",
              "    <tr>\n",
              "      <th>456545</th>\n",
              "      <td>1110849</td>\n",
              "      <td>145</td>\n",
              "      <td>61</td>\n",
              "      <td>2664</td>\n",
              "      <td>237.68</td>\n",
              "      <td>321.07</td>\n",
              "      <td>0</td>\n",
              "      <td>0</td>\n",
              "      <td>501</td>\n",
              "    </tr>\n",
              "    <tr>\n",
              "      <th>456546</th>\n",
              "      <td>1147725</td>\n",
              "      <td>145</td>\n",
              "      <td>61</td>\n",
              "      <td>2569</td>\n",
              "      <td>243.50</td>\n",
              "      <td>313.34</td>\n",
              "      <td>0</td>\n",
              "      <td>0</td>\n",
              "      <td>729</td>\n",
              "    </tr>\n",
              "    <tr>\n",
              "      <th>456547</th>\n",
              "      <td>1361984</td>\n",
              "      <td>145</td>\n",
              "      <td>61</td>\n",
              "      <td>2490</td>\n",
              "      <td>292.03</td>\n",
              "      <td>290.03</td>\n",
              "      <td>0</td>\n",
              "      <td>0</td>\n",
              "      <td>162</td>\n",
              "    </tr>\n",
              "  </tbody>\n",
              "</table>\n",
              "<p>456548 rows × 9 columns</p>\n",
              "</div>"
            ],
            "text/plain": [
              "             id  week  ...  homepage_featured  num_orders\n",
              "0       1379560     1  ...                  0         177\n",
              "1       1466964     1  ...                  0         270\n",
              "2       1346989     1  ...                  0         189\n",
              "3       1338232     1  ...                  0          54\n",
              "4       1448490     1  ...                  0          40\n",
              "...         ...   ...  ...                ...         ...\n",
              "456543  1271326   145  ...                  0          68\n",
              "456544  1062036   145  ...                  0          42\n",
              "456545  1110849   145  ...                  0         501\n",
              "456546  1147725   145  ...                  0         729\n",
              "456547  1361984   145  ...                  0         162\n",
              "\n",
              "[456548 rows x 9 columns]"
            ]
          },
          "metadata": {
            "tags": []
          },
          "execution_count": 53
        }
      ]
    },
    {
      "cell_type": "markdown",
      "metadata": {
        "id": "DWE26l3MN-zQ"
      },
      "source": [
        "![base.png](data:image/png;base64,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)\n",
        "\n"
      ]
    },
    {
      "cell_type": "code",
      "metadata": {
        "id": "3j-kQU7PGTX_"
      },
      "source": [
        "# Unir base de centros de distribuição ao de pedidos - Explicar parâmetros ###\n",
        "\n",
        "df_temp = pd.merge(train_data, center_info, how='inner', on='center_id')"
      ],
      "execution_count": null,
      "outputs": []
    },
    {
      "cell_type": "code",
      "metadata": {
        "id": "qRSKKZCDIWOA"
      },
      "source": [
        "# Unir base de tipos de pedidos ao de pedidos - Explicar parâmetros ###\n",
        "\n",
        "df_final = pd.merge(df_temp, meal_info, how='inner', on='meal_id')"
      ],
      "execution_count": null,
      "outputs": []
    },
    {
      "cell_type": "code",
      "metadata": {
        "colab": {
          "base_uri": "https://localhost:8080/",
          "height": 419
        },
        "id": "QYB7yLLfH8kO",
        "outputId": "5e15d09f-f2e5-4ff5-adf4-1648198c301f"
      },
      "source": [
        "df_final"
      ],
      "execution_count": null,
      "outputs": [
        {
          "output_type": "execute_result",
          "data": {
            "text/html": [
              "<div>\n",
              "<style scoped>\n",
              "    .dataframe tbody tr th:only-of-type {\n",
              "        vertical-align: middle;\n",
              "    }\n",
              "\n",
              "    .dataframe tbody tr th {\n",
              "        vertical-align: top;\n",
              "    }\n",
              "\n",
              "    .dataframe thead th {\n",
              "        text-align: right;\n",
              "    }\n",
              "</style>\n",
              "<table border=\"1\" class=\"dataframe\">\n",
              "  <thead>\n",
              "    <tr style=\"text-align: right;\">\n",
              "      <th></th>\n",
              "      <th>id</th>\n",
              "      <th>week</th>\n",
              "      <th>center_id</th>\n",
              "      <th>meal_id</th>\n",
              "      <th>checkout_price</th>\n",
              "      <th>base_price</th>\n",
              "      <th>emailer_for_promotion</th>\n",
              "      <th>homepage_featured</th>\n",
              "      <th>num_orders</th>\n",
              "      <th>city_code</th>\n",
              "      <th>region_code</th>\n",
              "      <th>center_type</th>\n",
              "      <th>op_area</th>\n",
              "      <th>category</th>\n",
              "      <th>cuisine</th>\n",
              "    </tr>\n",
              "  </thead>\n",
              "  <tbody>\n",
              "    <tr>\n",
              "      <th>0</th>\n",
              "      <td>1379560</td>\n",
              "      <td>1</td>\n",
              "      <td>55</td>\n",
              "      <td>1885</td>\n",
              "      <td>136.83</td>\n",
              "      <td>152.29</td>\n",
              "      <td>0</td>\n",
              "      <td>0</td>\n",
              "      <td>177</td>\n",
              "      <td>647</td>\n",
              "      <td>56</td>\n",
              "      <td>TYPE_C</td>\n",
              "      <td>2.0</td>\n",
              "      <td>Beverages</td>\n",
              "      <td>Thai</td>\n",
              "    </tr>\n",
              "    <tr>\n",
              "      <th>1</th>\n",
              "      <td>1018704</td>\n",
              "      <td>2</td>\n",
              "      <td>55</td>\n",
              "      <td>1885</td>\n",
              "      <td>135.83</td>\n",
              "      <td>152.29</td>\n",
              "      <td>0</td>\n",
              "      <td>0</td>\n",
              "      <td>323</td>\n",
              "      <td>647</td>\n",
              "      <td>56</td>\n",
              "      <td>TYPE_C</td>\n",
              "      <td>2.0</td>\n",
              "      <td>Beverages</td>\n",
              "      <td>Thai</td>\n",
              "    </tr>\n",
              "    <tr>\n",
              "      <th>2</th>\n",
              "      <td>1196273</td>\n",
              "      <td>3</td>\n",
              "      <td>55</td>\n",
              "      <td>1885</td>\n",
              "      <td>132.92</td>\n",
              "      <td>133.92</td>\n",
              "      <td>0</td>\n",
              "      <td>0</td>\n",
              "      <td>96</td>\n",
              "      <td>647</td>\n",
              "      <td>56</td>\n",
              "      <td>TYPE_C</td>\n",
              "      <td>2.0</td>\n",
              "      <td>Beverages</td>\n",
              "      <td>Thai</td>\n",
              "    </tr>\n",
              "    <tr>\n",
              "      <th>3</th>\n",
              "      <td>1116527</td>\n",
              "      <td>4</td>\n",
              "      <td>55</td>\n",
              "      <td>1885</td>\n",
              "      <td>135.86</td>\n",
              "      <td>134.86</td>\n",
              "      <td>0</td>\n",
              "      <td>0</td>\n",
              "      <td>163</td>\n",
              "      <td>647</td>\n",
              "      <td>56</td>\n",
              "      <td>TYPE_C</td>\n",
              "      <td>2.0</td>\n",
              "      <td>Beverages</td>\n",
              "      <td>Thai</td>\n",
              "    </tr>\n",
              "    <tr>\n",
              "      <th>4</th>\n",
              "      <td>1343872</td>\n",
              "      <td>5</td>\n",
              "      <td>55</td>\n",
              "      <td>1885</td>\n",
              "      <td>146.50</td>\n",
              "      <td>147.50</td>\n",
              "      <td>0</td>\n",
              "      <td>0</td>\n",
              "      <td>215</td>\n",
              "      <td>647</td>\n",
              "      <td>56</td>\n",
              "      <td>TYPE_C</td>\n",
              "      <td>2.0</td>\n",
              "      <td>Beverages</td>\n",
              "      <td>Thai</td>\n",
              "    </tr>\n",
              "    <tr>\n",
              "      <th>...</th>\n",
              "      <td>...</td>\n",
              "      <td>...</td>\n",
              "      <td>...</td>\n",
              "      <td>...</td>\n",
              "      <td>...</td>\n",
              "      <td>...</td>\n",
              "      <td>...</td>\n",
              "      <td>...</td>\n",
              "      <td>...</td>\n",
              "      <td>...</td>\n",
              "      <td>...</td>\n",
              "      <td>...</td>\n",
              "      <td>...</td>\n",
              "      <td>...</td>\n",
              "      <td>...</td>\n",
              "    </tr>\n",
              "    <tr>\n",
              "      <th>456543</th>\n",
              "      <td>1437396</td>\n",
              "      <td>141</td>\n",
              "      <td>61</td>\n",
              "      <td>2104</td>\n",
              "      <td>583.03</td>\n",
              "      <td>630.53</td>\n",
              "      <td>0</td>\n",
              "      <td>1</td>\n",
              "      <td>13</td>\n",
              "      <td>473</td>\n",
              "      <td>77</td>\n",
              "      <td>TYPE_A</td>\n",
              "      <td>4.5</td>\n",
              "      <td>Fish</td>\n",
              "      <td>Continental</td>\n",
              "    </tr>\n",
              "    <tr>\n",
              "      <th>456544</th>\n",
              "      <td>1060716</td>\n",
              "      <td>142</td>\n",
              "      <td>61</td>\n",
              "      <td>2104</td>\n",
              "      <td>581.03</td>\n",
              "      <td>582.03</td>\n",
              "      <td>0</td>\n",
              "      <td>0</td>\n",
              "      <td>42</td>\n",
              "      <td>473</td>\n",
              "      <td>77</td>\n",
              "      <td>TYPE_A</td>\n",
              "      <td>4.5</td>\n",
              "      <td>Fish</td>\n",
              "      <td>Continental</td>\n",
              "    </tr>\n",
              "    <tr>\n",
              "      <th>456545</th>\n",
              "      <td>1029231</td>\n",
              "      <td>143</td>\n",
              "      <td>61</td>\n",
              "      <td>2104</td>\n",
              "      <td>583.03</td>\n",
              "      <td>581.03</td>\n",
              "      <td>0</td>\n",
              "      <td>0</td>\n",
              "      <td>40</td>\n",
              "      <td>473</td>\n",
              "      <td>77</td>\n",
              "      <td>TYPE_A</td>\n",
              "      <td>4.5</td>\n",
              "      <td>Fish</td>\n",
              "      <td>Continental</td>\n",
              "    </tr>\n",
              "    <tr>\n",
              "      <th>456546</th>\n",
              "      <td>1141147</td>\n",
              "      <td>144</td>\n",
              "      <td>61</td>\n",
              "      <td>2104</td>\n",
              "      <td>582.03</td>\n",
              "      <td>581.03</td>\n",
              "      <td>0</td>\n",
              "      <td>0</td>\n",
              "      <td>53</td>\n",
              "      <td>473</td>\n",
              "      <td>77</td>\n",
              "      <td>TYPE_A</td>\n",
              "      <td>4.5</td>\n",
              "      <td>Fish</td>\n",
              "      <td>Continental</td>\n",
              "    </tr>\n",
              "    <tr>\n",
              "      <th>456547</th>\n",
              "      <td>1443704</td>\n",
              "      <td>145</td>\n",
              "      <td>61</td>\n",
              "      <td>2104</td>\n",
              "      <td>581.03</td>\n",
              "      <td>582.03</td>\n",
              "      <td>0</td>\n",
              "      <td>0</td>\n",
              "      <td>27</td>\n",
              "      <td>473</td>\n",
              "      <td>77</td>\n",
              "      <td>TYPE_A</td>\n",
              "      <td>4.5</td>\n",
              "      <td>Fish</td>\n",
              "      <td>Continental</td>\n",
              "    </tr>\n",
              "  </tbody>\n",
              "</table>\n",
              "<p>456548 rows × 15 columns</p>\n",
              "</div>"
            ],
            "text/plain": [
              "             id  week  center_id  ...  op_area   category      cuisine\n",
              "0       1379560     1         55  ...      2.0  Beverages         Thai\n",
              "1       1018704     2         55  ...      2.0  Beverages         Thai\n",
              "2       1196273     3         55  ...      2.0  Beverages         Thai\n",
              "3       1116527     4         55  ...      2.0  Beverages         Thai\n",
              "4       1343872     5         55  ...      2.0  Beverages         Thai\n",
              "...         ...   ...        ...  ...      ...        ...          ...\n",
              "456543  1437396   141         61  ...      4.5       Fish  Continental\n",
              "456544  1060716   142         61  ...      4.5       Fish  Continental\n",
              "456545  1029231   143         61  ...      4.5       Fish  Continental\n",
              "456546  1141147   144         61  ...      4.5       Fish  Continental\n",
              "456547  1443704   145         61  ...      4.5       Fish  Continental\n",
              "\n",
              "[456548 rows x 15 columns]"
            ]
          },
          "metadata": {
            "tags": []
          },
          "execution_count": 56
        }
      ]
    },
    {
      "cell_type": "code",
      "metadata": {
        "colab": {
          "base_uri": "https://localhost:8080/",
          "height": 297
        },
        "id": "6mfYVXlWJeoA",
        "outputId": "8304ee2b-bb03-455c-bb98-93b3141e67f5"
      },
      "source": [
        "# Estatística descritiva dos atributos da base de dados\n",
        "\n",
        "df_final.describe()"
      ],
      "execution_count": null,
      "outputs": [
        {
          "output_type": "execute_result",
          "data": {
            "text/html": [
              "<div>\n",
              "<style scoped>\n",
              "    .dataframe tbody tr th:only-of-type {\n",
              "        vertical-align: middle;\n",
              "    }\n",
              "\n",
              "    .dataframe tbody tr th {\n",
              "        vertical-align: top;\n",
              "    }\n",
              "\n",
              "    .dataframe thead th {\n",
              "        text-align: right;\n",
              "    }\n",
              "</style>\n",
              "<table border=\"1\" class=\"dataframe\">\n",
              "  <thead>\n",
              "    <tr style=\"text-align: right;\">\n",
              "      <th></th>\n",
              "      <th>id</th>\n",
              "      <th>week</th>\n",
              "      <th>center_id</th>\n",
              "      <th>meal_id</th>\n",
              "      <th>checkout_price</th>\n",
              "      <th>base_price</th>\n",
              "      <th>emailer_for_promotion</th>\n",
              "      <th>homepage_featured</th>\n",
              "      <th>num_orders</th>\n",
              "      <th>city_code</th>\n",
              "      <th>region_code</th>\n",
              "      <th>op_area</th>\n",
              "    </tr>\n",
              "  </thead>\n",
              "  <tbody>\n",
              "    <tr>\n",
              "      <th>count</th>\n",
              "      <td>4.565480e+05</td>\n",
              "      <td>456548.000000</td>\n",
              "      <td>456548.000000</td>\n",
              "      <td>456548.000000</td>\n",
              "      <td>456548.000000</td>\n",
              "      <td>456548.000000</td>\n",
              "      <td>456548.000000</td>\n",
              "      <td>456548.00000</td>\n",
              "      <td>456548.000000</td>\n",
              "      <td>456548.000000</td>\n",
              "      <td>456548.000000</td>\n",
              "      <td>456548.000000</td>\n",
              "    </tr>\n",
              "    <tr>\n",
              "      <th>mean</th>\n",
              "      <td>1.250096e+06</td>\n",
              "      <td>74.768771</td>\n",
              "      <td>82.105796</td>\n",
              "      <td>2024.337458</td>\n",
              "      <td>332.238933</td>\n",
              "      <td>354.156627</td>\n",
              "      <td>0.081152</td>\n",
              "      <td>0.10920</td>\n",
              "      <td>261.872760</td>\n",
              "      <td>601.553399</td>\n",
              "      <td>56.614566</td>\n",
              "      <td>4.083590</td>\n",
              "    </tr>\n",
              "    <tr>\n",
              "      <th>std</th>\n",
              "      <td>1.443548e+05</td>\n",
              "      <td>41.524956</td>\n",
              "      <td>45.975046</td>\n",
              "      <td>547.420920</td>\n",
              "      <td>152.939723</td>\n",
              "      <td>160.715914</td>\n",
              "      <td>0.273069</td>\n",
              "      <td>0.31189</td>\n",
              "      <td>395.922798</td>\n",
              "      <td>66.195914</td>\n",
              "      <td>17.641306</td>\n",
              "      <td>1.091686</td>\n",
              "    </tr>\n",
              "    <tr>\n",
              "      <th>min</th>\n",
              "      <td>1.000000e+06</td>\n",
              "      <td>1.000000</td>\n",
              "      <td>10.000000</td>\n",
              "      <td>1062.000000</td>\n",
              "      <td>2.970000</td>\n",
              "      <td>55.350000</td>\n",
              "      <td>0.000000</td>\n",
              "      <td>0.00000</td>\n",
              "      <td>13.000000</td>\n",
              "      <td>456.000000</td>\n",
              "      <td>23.000000</td>\n",
              "      <td>0.900000</td>\n",
              "    </tr>\n",
              "    <tr>\n",
              "      <th>25%</th>\n",
              "      <td>1.124999e+06</td>\n",
              "      <td>39.000000</td>\n",
              "      <td>43.000000</td>\n",
              "      <td>1558.000000</td>\n",
              "      <td>228.950000</td>\n",
              "      <td>243.500000</td>\n",
              "      <td>0.000000</td>\n",
              "      <td>0.00000</td>\n",
              "      <td>54.000000</td>\n",
              "      <td>553.000000</td>\n",
              "      <td>34.000000</td>\n",
              "      <td>3.600000</td>\n",
              "    </tr>\n",
              "    <tr>\n",
              "      <th>50%</th>\n",
              "      <td>1.250184e+06</td>\n",
              "      <td>76.000000</td>\n",
              "      <td>76.000000</td>\n",
              "      <td>1993.000000</td>\n",
              "      <td>296.820000</td>\n",
              "      <td>310.460000</td>\n",
              "      <td>0.000000</td>\n",
              "      <td>0.00000</td>\n",
              "      <td>136.000000</td>\n",
              "      <td>596.000000</td>\n",
              "      <td>56.000000</td>\n",
              "      <td>4.000000</td>\n",
              "    </tr>\n",
              "    <tr>\n",
              "      <th>75%</th>\n",
              "      <td>1.375140e+06</td>\n",
              "      <td>111.000000</td>\n",
              "      <td>110.000000</td>\n",
              "      <td>2539.000000</td>\n",
              "      <td>445.230000</td>\n",
              "      <td>458.870000</td>\n",
              "      <td>0.000000</td>\n",
              "      <td>0.00000</td>\n",
              "      <td>324.000000</td>\n",
              "      <td>651.000000</td>\n",
              "      <td>77.000000</td>\n",
              "      <td>4.500000</td>\n",
              "    </tr>\n",
              "    <tr>\n",
              "      <th>max</th>\n",
              "      <td>1.499999e+06</td>\n",
              "      <td>145.000000</td>\n",
              "      <td>186.000000</td>\n",
              "      <td>2956.000000</td>\n",
              "      <td>866.270000</td>\n",
              "      <td>866.270000</td>\n",
              "      <td>1.000000</td>\n",
              "      <td>1.00000</td>\n",
              "      <td>24299.000000</td>\n",
              "      <td>713.000000</td>\n",
              "      <td>93.000000</td>\n",
              "      <td>7.000000</td>\n",
              "    </tr>\n",
              "  </tbody>\n",
              "</table>\n",
              "</div>"
            ],
            "text/plain": [
              "                 id           week  ...    region_code        op_area\n",
              "count  4.565480e+05  456548.000000  ...  456548.000000  456548.000000\n",
              "mean   1.250096e+06      74.768771  ...      56.614566       4.083590\n",
              "std    1.443548e+05      41.524956  ...      17.641306       1.091686\n",
              "min    1.000000e+06       1.000000  ...      23.000000       0.900000\n",
              "25%    1.124999e+06      39.000000  ...      34.000000       3.600000\n",
              "50%    1.250184e+06      76.000000  ...      56.000000       4.000000\n",
              "75%    1.375140e+06     111.000000  ...      77.000000       4.500000\n",
              "max    1.499999e+06     145.000000  ...      93.000000       7.000000\n",
              "\n",
              "[8 rows x 12 columns]"
            ]
          },
          "metadata": {
            "tags": []
          },
          "execution_count": 57
        }
      ]
    },
    {
      "cell_type": "markdown",
      "metadata": {
        "id": "2PLIpXDeLBhp"
      },
      "source": [
        "**Principais destaques: média \"checkout_price\": 332.23; \n",
        "média \"base_price\": 354.15;\n",
        "média \"homepage_featured > média \"emailer_for_promotion\";\n",
        "média \"num_orders\": 261.87, alto std;\n",
        "média \"op_area\": 4.08 km2**"
      ]
    },
    {
      "cell_type": "code",
      "metadata": {
        "colab": {
          "base_uri": "https://localhost:8080/"
        },
        "id": "QiLu7-A_rgMl",
        "outputId": "b0519103-7e76-4f1a-cb9d-7a4f3e8722d6"
      },
      "source": [
        "df_final.isna().sum()"
      ],
      "execution_count": null,
      "outputs": [
        {
          "output_type": "execute_result",
          "data": {
            "text/plain": [
              "id                       0\n",
              "week                     0\n",
              "center_id                0\n",
              "meal_id                  0\n",
              "checkout_price           0\n",
              "base_price               0\n",
              "emailer_for_promotion    0\n",
              "homepage_featured        0\n",
              "num_orders               0\n",
              "city_code                0\n",
              "region_code              0\n",
              "center_type              0\n",
              "op_area                  0\n",
              "category                 0\n",
              "cuisine                  0\n",
              "dtype: int64"
            ]
          },
          "metadata": {
            "tags": []
          },
          "execution_count": 58
        }
      ]
    },
    {
      "cell_type": "code",
      "metadata": {
        "id": "x2aj-ROIMAFY"
      },
      "source": [
        "# Ordenar base de dados por semana (série temporal)\n",
        "\n",
        "df_final = df_final.sort_values(by=['week'])"
      ],
      "execution_count": null,
      "outputs": []
    },
    {
      "cell_type": "code",
      "metadata": {
        "colab": {
          "base_uri": "https://localhost:8080/",
          "height": 483
        },
        "id": "GdoxIbSQ2LwG",
        "outputId": "c6f196d4-a7e2-4513-e3b3-cc75ae6a9225"
      },
      "source": [
        "# Verificando ranking the tipos de pedidos\n",
        "\n",
        "category = df_final.groupby(['category'])['num_orders'].sum().sort_values(ascending=False).reset_index()\n",
        "category"
      ],
      "execution_count": null,
      "outputs": [
        {
          "output_type": "execute_result",
          "data": {
            "text/html": [
              "<div>\n",
              "<style scoped>\n",
              "    .dataframe tbody tr th:only-of-type {\n",
              "        vertical-align: middle;\n",
              "    }\n",
              "\n",
              "    .dataframe tbody tr th {\n",
              "        vertical-align: top;\n",
              "    }\n",
              "\n",
              "    .dataframe thead th {\n",
              "        text-align: right;\n",
              "    }\n",
              "</style>\n",
              "<table border=\"1\" class=\"dataframe\">\n",
              "  <thead>\n",
              "    <tr style=\"text-align: right;\">\n",
              "      <th></th>\n",
              "      <th>category</th>\n",
              "      <th>num_orders</th>\n",
              "    </tr>\n",
              "  </thead>\n",
              "  <tbody>\n",
              "    <tr>\n",
              "      <th>0</th>\n",
              "      <td>Beverages</td>\n",
              "      <td>40480525</td>\n",
              "    </tr>\n",
              "    <tr>\n",
              "      <th>1</th>\n",
              "      <td>Rice Bowl</td>\n",
              "      <td>20874063</td>\n",
              "    </tr>\n",
              "    <tr>\n",
              "      <th>2</th>\n",
              "      <td>Sandwich</td>\n",
              "      <td>17636782</td>\n",
              "    </tr>\n",
              "    <tr>\n",
              "      <th>3</th>\n",
              "      <td>Salad</td>\n",
              "      <td>10944336</td>\n",
              "    </tr>\n",
              "    <tr>\n",
              "      <th>4</th>\n",
              "      <td>Pizza</td>\n",
              "      <td>7383720</td>\n",
              "    </tr>\n",
              "    <tr>\n",
              "      <th>5</th>\n",
              "      <td>Other Snacks</td>\n",
              "      <td>4766293</td>\n",
              "    </tr>\n",
              "    <tr>\n",
              "      <th>6</th>\n",
              "      <td>Starters</td>\n",
              "      <td>4649122</td>\n",
              "    </tr>\n",
              "    <tr>\n",
              "      <th>7</th>\n",
              "      <td>Extras</td>\n",
              "      <td>3984979</td>\n",
              "    </tr>\n",
              "    <tr>\n",
              "      <th>8</th>\n",
              "      <td>Seafood</td>\n",
              "      <td>2715714</td>\n",
              "    </tr>\n",
              "    <tr>\n",
              "      <th>9</th>\n",
              "      <td>Desert</td>\n",
              "      <td>1940754</td>\n",
              "    </tr>\n",
              "    <tr>\n",
              "      <th>10</th>\n",
              "      <td>Pasta</td>\n",
              "      <td>1637744</td>\n",
              "    </tr>\n",
              "    <tr>\n",
              "      <th>11</th>\n",
              "      <td>Soup</td>\n",
              "      <td>1039646</td>\n",
              "    </tr>\n",
              "    <tr>\n",
              "      <th>12</th>\n",
              "      <td>Fish</td>\n",
              "      <td>871959</td>\n",
              "    </tr>\n",
              "    <tr>\n",
              "      <th>13</th>\n",
              "      <td>Biryani</td>\n",
              "      <td>631848</td>\n",
              "    </tr>\n",
              "  </tbody>\n",
              "</table>\n",
              "</div>"
            ],
            "text/plain": [
              "        category  num_orders\n",
              "0      Beverages    40480525\n",
              "1      Rice Bowl    20874063\n",
              "2       Sandwich    17636782\n",
              "3          Salad    10944336\n",
              "4          Pizza     7383720\n",
              "5   Other Snacks     4766293\n",
              "6       Starters     4649122\n",
              "7         Extras     3984979\n",
              "8        Seafood     2715714\n",
              "9         Desert     1940754\n",
              "10         Pasta     1637744\n",
              "11          Soup     1039646\n",
              "12          Fish      871959\n",
              "13       Biryani      631848"
            ]
          },
          "metadata": {
            "tags": []
          },
          "execution_count": 60
        }
      ]
    },
    {
      "cell_type": "code",
      "metadata": {
        "colab": {
          "base_uri": "https://localhost:8080/",
          "height": 416
        },
        "id": "-zMFv_a8j5BD",
        "outputId": "16ebd754-13c7-4766-a597-82c8cd8a803a"
      },
      "source": [
        "# Gráfico das categorias de pedidos\n",
        "\n",
        "fig_dims = (14, 6)\n",
        "fig, ax = plt.subplots(figsize=fig_dims)\n",
        "\n",
        "sns.barplot(data=category, x='category', y='num_orders', ax=ax)"
      ],
      "execution_count": null,
      "outputs": [
        {
          "output_type": "execute_result",
          "data": {
            "text/plain": [
              "<matplotlib.axes._subplots.AxesSubplot at 0x7fd05d4aea90>"
            ]
          },
          "metadata": {
            "tags": []
          },
          "execution_count": 61
        },
        {
          "output_type": "display_data",
          "data": {
            "image/png": "[encoded data removed]",
            "text/plain": [
              "<Figure size 1008x432 with 1 Axes>"
            ]
          },
          "metadata": {
            "tags": []
          }
        }
      ]
    },
    {
      "cell_type": "code",
      "metadata": {
        "colab": {
          "base_uri": "https://localhost:8080/",
          "height": 173
        },
        "id": "inmMAylYRskl",
        "outputId": "82d68a1e-39ec-4d87-ca4e-e232694f0442"
      },
      "source": [
        "# Verificando ranking the tipos de culinária\n",
        "\n",
        "count_cuisine = df_final.groupby(['cuisine'])['num_orders'].sum().sort_values(ascending=False).reset_index()\n",
        "count_cuisine"
      ],
      "execution_count": null,
      "outputs": [
        {
          "output_type": "execute_result",
          "data": {
            "text/html": [
              "<div>\n",
              "<style scoped>\n",
              "    .dataframe tbody tr th:only-of-type {\n",
              "        vertical-align: middle;\n",
              "    }\n",
              "\n",
              "    .dataframe tbody tr th {\n",
              "        vertical-align: top;\n",
              "    }\n",
              "\n",
              "    .dataframe thead th {\n",
              "        text-align: right;\n",
              "    }\n",
              "</style>\n",
              "<table border=\"1\" class=\"dataframe\">\n",
              "  <thead>\n",
              "    <tr style=\"text-align: right;\">\n",
              "      <th></th>\n",
              "      <th>cuisine</th>\n",
              "      <th>num_orders</th>\n",
              "    </tr>\n",
              "  </thead>\n",
              "  <tbody>\n",
              "    <tr>\n",
              "      <th>0</th>\n",
              "      <td>Italian</td>\n",
              "      <td>44172832</td>\n",
              "    </tr>\n",
              "    <tr>\n",
              "      <th>1</th>\n",
              "      <td>Thai</td>\n",
              "      <td>32677670</td>\n",
              "    </tr>\n",
              "    <tr>\n",
              "      <th>2</th>\n",
              "      <td>Indian</td>\n",
              "      <td>25792544</td>\n",
              "    </tr>\n",
              "    <tr>\n",
              "      <th>3</th>\n",
              "      <td>Continental</td>\n",
              "      <td>16914439</td>\n",
              "    </tr>\n",
              "  </tbody>\n",
              "</table>\n",
              "</div>"
            ],
            "text/plain": [
              "       cuisine  num_orders\n",
              "0      Italian    44172832\n",
              "1         Thai    32677670\n",
              "2       Indian    25792544\n",
              "3  Continental    16914439"
            ]
          },
          "metadata": {
            "tags": []
          },
          "execution_count": 62
        }
      ]
    },
    {
      "cell_type": "code",
      "metadata": {
        "colab": {
          "base_uri": "https://localhost:8080/",
          "height": 416
        },
        "id": "dOEdJ0QWpw1S",
        "outputId": "cb7dde1e-3049-493b-effe-1082d0fccd21"
      },
      "source": [
        "# Gráfico dos tipos de culinária dos pedidos\n",
        "\n",
        "fig_dims = (8, 6)\n",
        "fig, ax = plt.subplots(figsize=fig_dims)\n",
        "\n",
        "sns.barplot(data=count_cuisine, x='cuisine', y='num_orders', ax=ax)"
      ],
      "execution_count": null,
      "outputs": [
        {
          "output_type": "execute_result",
          "data": {
            "text/plain": [
              "<matplotlib.axes._subplots.AxesSubplot at 0x7fd05d239a58>"
            ]
          },
          "metadata": {
            "tags": []
          },
          "execution_count": 63
        },
        {
          "output_type": "display_data",
          "data": {
            "image/png": "[encoded data removed]",
            "text/plain": [
              "<Figure size 576x432 with 1 Axes>"
            ]
          },
          "metadata": {
            "tags": []
          }
        }
      ]
    },
    {
      "cell_type": "markdown",
      "metadata": {
        "id": "r_3m8GnOF3Qr"
      },
      "source": [
        "## **Quais refeições são as mais vendidas? E as que trazem maior faturamento?**"
      ]
    },
    {
      "cell_type": "code",
      "metadata": {
        "colab": {
          "base_uri": "https://localhost:8080/"
        },
        "id": "3iciqu3dGHX-",
        "outputId": "65c0ad47-89e4-4a2b-f48d-1e62d782673a"
      },
      "source": [
        "# Verificando ranking the tipos de pedidos\n",
        "\n",
        "count_meal_id = df_final.groupby(['meal_id'])['num_orders'].sum().sort_values(ascending=False).head(10)\n",
        "count_meal_id"
      ],
      "execution_count": null,
      "outputs": [
        {
          "output_type": "execute_result",
          "data": {
            "text/plain": [
              "meal_id\n",
              "2290    9770303\n",
              "1885    8346246\n",
              "1754    6818059\n",
              "1993    6656856\n",
              "1109    6367773\n",
              "2707    5932792\n",
              "1971    5728620\n",
              "2826    5090103\n",
              "1727    4735987\n",
              "1062    4712795\n",
              "Name: num_orders, dtype: int64"
            ]
          },
          "metadata": {
            "tags": []
          },
          "execution_count": 64
        }
      ]
    },
    {
      "cell_type": "code",
      "metadata": {
        "id": "B-B1Ql8x3mZ7",
        "colab": {
          "base_uri": "https://localhost:8080/"
        },
        "outputId": "4672e2a1-9975-4904-b444-bc741cd29df0"
      },
      "source": [
        "# Identificando ranking de pedidos pelo \"meal_id\"\n",
        "\n",
        "for key, value in count_meal_id.items():\n",
        "  print(meal_info[meal_info['meal_id']==key])"
      ],
      "execution_count": null,
      "outputs": [
        {
          "output_type": "stream",
          "text": [
            "    meal_id   category cuisine\n",
            "17     2290  Rice Bowl  Indian\n",
            "   meal_id   category cuisine\n",
            "0     1885  Beverages    Thai\n",
            "    meal_id  category  cuisine\n",
            "23     1754  Sandwich  Italian\n",
            "   meal_id   category cuisine\n",
            "1     1993  Beverages    Thai\n",
            "    meal_id   category cuisine\n",
            "16     1109  Rice Bowl  Indian\n",
            "    meal_id   category  cuisine\n",
            "10     2707  Beverages  Italian\n",
            "    meal_id  category  cuisine\n",
            "24     1971  Sandwich  Italian\n",
            "    meal_id  category  cuisine\n",
            "27     2826  Sandwich  Italian\n",
            "    meal_id   category cuisine\n",
            "35     1727  Rice Bowl  Indian\n",
            "   meal_id   category  cuisine\n",
            "6     1062  Beverages  Italian\n"
          ],
          "name": "stdout"
        }
      ]
    },
    {
      "cell_type": "markdown",
      "metadata": {
        "id": "zth26ox8tG13"
      },
      "source": [
        "Ranking mais vendidos: Rice Bowl (Indian), Beverages (Thai), Sandwich (Italian), Beverages (Thai) e Rice Bowl (Indian).\n"
      ]
    },
    {
      "cell_type": "code",
      "metadata": {
        "colab": {
          "base_uri": "https://localhost:8080/",
          "height": 490
        },
        "id": "53851n-WKQFr",
        "outputId": "38e9bc20-e5dd-46ae-d1bd-07d61c3ee34a"
      },
      "source": [
        "# Criar coluna com o preço final x número de pedidos\n",
        "\n",
        "df_final['total_price'] = df_final['checkout_price'] * df_final['num_orders']\n",
        "df_final"
      ],
      "execution_count": null,
      "outputs": [
        {
          "output_type": "execute_result",
          "data": {
            "text/html": [
              "<div>\n",
              "<style scoped>\n",
              "    .dataframe tbody tr th:only-of-type {\n",
              "        vertical-align: middle;\n",
              "    }\n",
              "\n",
              "    .dataframe tbody tr th {\n",
              "        vertical-align: top;\n",
              "    }\n",
              "\n",
              "    .dataframe thead th {\n",
              "        text-align: right;\n",
              "    }\n",
              "</style>\n",
              "<table border=\"1\" class=\"dataframe\">\n",
              "  <thead>\n",
              "    <tr style=\"text-align: right;\">\n",
              "      <th></th>\n",
              "      <th>id</th>\n",
              "      <th>week</th>\n",
              "      <th>center_id</th>\n",
              "      <th>meal_id</th>\n",
              "      <th>checkout_price</th>\n",
              "      <th>base_price</th>\n",
              "      <th>emailer_for_promotion</th>\n",
              "      <th>homepage_featured</th>\n",
              "      <th>num_orders</th>\n",
              "      <th>city_code</th>\n",
              "      <th>region_code</th>\n",
              "      <th>center_type</th>\n",
              "      <th>op_area</th>\n",
              "      <th>category</th>\n",
              "      <th>cuisine</th>\n",
              "      <th>total_price</th>\n",
              "    </tr>\n",
              "  </thead>\n",
              "  <tbody>\n",
              "    <tr>\n",
              "      <th>0</th>\n",
              "      <td>1379560</td>\n",
              "      <td>1</td>\n",
              "      <td>55</td>\n",
              "      <td>1885</td>\n",
              "      <td>136.83</td>\n",
              "      <td>152.29</td>\n",
              "      <td>0</td>\n",
              "      <td>0</td>\n",
              "      <td>177</td>\n",
              "      <td>647</td>\n",
              "      <td>56</td>\n",
              "      <td>TYPE_C</td>\n",
              "      <td>2.0</td>\n",
              "      <td>Beverages</td>\n",
              "      <td>Thai</td>\n",
              "      <td>24218.91</td>\n",
              "    </tr>\n",
              "    <tr>\n",
              "      <th>299714</th>\n",
              "      <td>1102584</td>\n",
              "      <td>1</td>\n",
              "      <td>11</td>\n",
              "      <td>1525</td>\n",
              "      <td>242.50</td>\n",
              "      <td>282.33</td>\n",
              "      <td>0</td>\n",
              "      <td>1</td>\n",
              "      <td>460</td>\n",
              "      <td>679</td>\n",
              "      <td>56</td>\n",
              "      <td>TYPE_A</td>\n",
              "      <td>3.7</td>\n",
              "      <td>Other Snacks</td>\n",
              "      <td>Thai</td>\n",
              "      <td>111550.00</td>\n",
              "    </tr>\n",
              "    <tr>\n",
              "      <th>299851</th>\n",
              "      <td>1026447</td>\n",
              "      <td>1</td>\n",
              "      <td>83</td>\n",
              "      <td>1525</td>\n",
              "      <td>244.50</td>\n",
              "      <td>281.33</td>\n",
              "      <td>0</td>\n",
              "      <td>0</td>\n",
              "      <td>94</td>\n",
              "      <td>659</td>\n",
              "      <td>77</td>\n",
              "      <td>TYPE_A</td>\n",
              "      <td>5.3</td>\n",
              "      <td>Other Snacks</td>\n",
              "      <td>Thai</td>\n",
              "      <td>22983.00</td>\n",
              "    </tr>\n",
              "    <tr>\n",
              "      <th>299996</th>\n",
              "      <td>1177435</td>\n",
              "      <td>1</td>\n",
              "      <td>32</td>\n",
              "      <td>1525</td>\n",
              "      <td>249.29</td>\n",
              "      <td>251.29</td>\n",
              "      <td>0</td>\n",
              "      <td>0</td>\n",
              "      <td>82</td>\n",
              "      <td>526</td>\n",
              "      <td>34</td>\n",
              "      <td>TYPE_A</td>\n",
              "      <td>3.8</td>\n",
              "      <td>Other Snacks</td>\n",
              "      <td>Thai</td>\n",
              "      <td>20441.78</td>\n",
              "    </tr>\n",
              "    <tr>\n",
              "      <th>31140</th>\n",
              "      <td>1108310</td>\n",
              "      <td>1</td>\n",
              "      <td>43</td>\n",
              "      <td>2539</td>\n",
              "      <td>133.86</td>\n",
              "      <td>135.86</td>\n",
              "      <td>0</td>\n",
              "      <td>0</td>\n",
              "      <td>675</td>\n",
              "      <td>590</td>\n",
              "      <td>56</td>\n",
              "      <td>TYPE_A</td>\n",
              "      <td>5.1</td>\n",
              "      <td>Beverages</td>\n",
              "      <td>Thai</td>\n",
              "      <td>90355.50</td>\n",
              "    </tr>\n",
              "    <tr>\n",
              "      <th>...</th>\n",
              "      <td>...</td>\n",
              "      <td>...</td>\n",
              "      <td>...</td>\n",
              "      <td>...</td>\n",
              "      <td>...</td>\n",
              "      <td>...</td>\n",
              "      <td>...</td>\n",
              "      <td>...</td>\n",
              "      <td>...</td>\n",
              "      <td>...</td>\n",
              "      <td>...</td>\n",
              "      <td>...</td>\n",
              "      <td>...</td>\n",
              "      <td>...</td>\n",
              "      <td>...</td>\n",
              "      <td>...</td>\n",
              "    </tr>\n",
              "    <tr>\n",
              "      <th>364068</th>\n",
              "      <td>1126639</td>\n",
              "      <td>145</td>\n",
              "      <td>39</td>\n",
              "      <td>1247</td>\n",
              "      <td>446.23</td>\n",
              "      <td>446.23</td>\n",
              "      <td>0</td>\n",
              "      <td>0</td>\n",
              "      <td>14</td>\n",
              "      <td>526</td>\n",
              "      <td>34</td>\n",
              "      <td>TYPE_C</td>\n",
              "      <td>3.8</td>\n",
              "      <td>Biryani</td>\n",
              "      <td>Indian</td>\n",
              "      <td>6247.22</td>\n",
              "    </tr>\n",
              "    <tr>\n",
              "      <th>243852</th>\n",
              "      <td>1476913</td>\n",
              "      <td>145</td>\n",
              "      <td>75</td>\n",
              "      <td>1558</td>\n",
              "      <td>548.08</td>\n",
              "      <td>549.08</td>\n",
              "      <td>0</td>\n",
              "      <td>0</td>\n",
              "      <td>175</td>\n",
              "      <td>651</td>\n",
              "      <td>77</td>\n",
              "      <td>TYPE_B</td>\n",
              "      <td>4.7</td>\n",
              "      <td>Pizza</td>\n",
              "      <td>Continental</td>\n",
              "      <td>95914.00</td>\n",
              "    </tr>\n",
              "    <tr>\n",
              "      <th>130329</th>\n",
              "      <td>1193828</td>\n",
              "      <td>145</td>\n",
              "      <td>97</td>\n",
              "      <td>2290</td>\n",
              "      <td>272.60</td>\n",
              "      <td>271.60</td>\n",
              "      <td>0</td>\n",
              "      <td>0</td>\n",
              "      <td>473</td>\n",
              "      <td>628</td>\n",
              "      <td>77</td>\n",
              "      <td>TYPE_A</td>\n",
              "      <td>4.6</td>\n",
              "      <td>Rice Bowl</td>\n",
              "      <td>Indian</td>\n",
              "      <td>128939.80</td>\n",
              "    </tr>\n",
              "    <tr>\n",
              "      <th>26604</th>\n",
              "      <td>1188974</td>\n",
              "      <td>145</td>\n",
              "      <td>27</td>\n",
              "      <td>2539</td>\n",
              "      <td>158.14</td>\n",
              "      <td>158.14</td>\n",
              "      <td>0</td>\n",
              "      <td>0</td>\n",
              "      <td>244</td>\n",
              "      <td>713</td>\n",
              "      <td>85</td>\n",
              "      <td>TYPE_A</td>\n",
              "      <td>4.5</td>\n",
              "      <td>Beverages</td>\n",
              "      <td>Thai</td>\n",
              "      <td>38586.16</td>\n",
              "    </tr>\n",
              "    <tr>\n",
              "      <th>456547</th>\n",
              "      <td>1443704</td>\n",
              "      <td>145</td>\n",
              "      <td>61</td>\n",
              "      <td>2104</td>\n",
              "      <td>581.03</td>\n",
              "      <td>582.03</td>\n",
              "      <td>0</td>\n",
              "      <td>0</td>\n",
              "      <td>27</td>\n",
              "      <td>473</td>\n",
              "      <td>77</td>\n",
              "      <td>TYPE_A</td>\n",
              "      <td>4.5</td>\n",
              "      <td>Fish</td>\n",
              "      <td>Continental</td>\n",
              "      <td>15687.81</td>\n",
              "    </tr>\n",
              "  </tbody>\n",
              "</table>\n",
              "<p>456548 rows × 16 columns</p>\n",
              "</div>"
            ],
            "text/plain": [
              "             id  week  center_id  ...      category      cuisine  total_price\n",
              "0       1379560     1         55  ...     Beverages         Thai     24218.91\n",
              "299714  1102584     1         11  ...  Other Snacks         Thai    111550.00\n",
              "299851  1026447     1         83  ...  Other Snacks         Thai     22983.00\n",
              "299996  1177435     1         32  ...  Other Snacks         Thai     20441.78\n",
              "31140   1108310     1         43  ...     Beverages         Thai     90355.50\n",
              "...         ...   ...        ...  ...           ...          ...          ...\n",
              "364068  1126639   145         39  ...       Biryani       Indian      6247.22\n",
              "243852  1476913   145         75  ...         Pizza  Continental     95914.00\n",
              "130329  1193828   145         97  ...     Rice Bowl       Indian    128939.80\n",
              "26604   1188974   145         27  ...     Beverages         Thai     38586.16\n",
              "456547  1443704   145         61  ...          Fish  Continental     15687.81\n",
              "\n",
              "[456548 rows x 16 columns]"
            ]
          },
          "metadata": {
            "tags": []
          },
          "execution_count": 66
        }
      ]
    },
    {
      "cell_type": "code",
      "metadata": {
        "colab": {
          "base_uri": "https://localhost:8080/"
        },
        "id": "7_5xUO6WK3nT",
        "outputId": "44995f58-96c2-464d-f19f-b7d9a92a5ae8"
      },
      "source": [
        "# Calcular o faturamento por \"meal_id\"\n",
        "\n",
        "total_order_price_id = df_final.groupby(['meal_id'])['total_price'].sum().sort_values(ascending=False).head(10)\n",
        "total_order_price_id"
      ],
      "execution_count": null,
      "outputs": [
        {
          "output_type": "execute_result",
          "data": {
            "text/plain": [
              "meal_id\n",
              "2290    2.445550e+09\n",
              "1727    1.776754e+09\n",
              "1754    1.752753e+09\n",
              "1962    1.742114e+09\n",
              "1109    1.659226e+09\n",
              "2826    1.504060e+09\n",
              "1971    1.406614e+09\n",
              "2581    1.285972e+09\n",
              "2707    1.223583e+09\n",
              "2664    1.190095e+09\n",
              "Name: total_price, dtype: float64"
            ]
          },
          "metadata": {
            "tags": []
          },
          "execution_count": 67
        }
      ]
    },
    {
      "cell_type": "code",
      "metadata": {
        "colab": {
          "base_uri": "https://localhost:8080/"
        },
        "id": "NK0o1Ku2QRDw",
        "outputId": "f031ad7f-c014-420b-a707-fbe77b2946f6"
      },
      "source": [
        "# Identificando maiores faturamentos\n",
        "\n",
        "for key, value in total_order_price_id.items():\n",
        "  print(meal_info[meal_info['meal_id']==key])"
      ],
      "execution_count": null,
      "outputs": [
        {
          "output_type": "stream",
          "text": [
            "    meal_id   category cuisine\n",
            "17     2290  Rice Bowl  Indian\n",
            "    meal_id   category cuisine\n",
            "35     1727  Rice Bowl  Indian\n",
            "    meal_id  category  cuisine\n",
            "23     1754  Sandwich  Italian\n",
            "    meal_id category      cuisine\n",
            "44     1962    Pizza  Continental\n",
            "    meal_id   category cuisine\n",
            "16     1109  Rice Bowl  Indian\n",
            "    meal_id  category  cuisine\n",
            "27     2826  Sandwich  Italian\n",
            "    meal_id  category  cuisine\n",
            "24     1971  Sandwich  Italian\n",
            "    meal_id category      cuisine\n",
            "43     2581    Pizza  Continental\n",
            "    meal_id   category  cuisine\n",
            "10     2707  Beverages  Italian\n",
            "    meal_id category  cuisine\n",
            "28     2664    Salad  Italian\n"
          ],
          "name": "stdout"
        }
      ]
    },
    {
      "cell_type": "markdown",
      "metadata": {
        "id": "AO36ROHVtu-h"
      },
      "source": [
        "Ranking mais vendidos: Rice Bowl (Indian), Rice Bowl (Indian), Sandwich (Italian), Pizza (Continental) e Rice Bowl (Indian)."
      ]
    },
    {
      "cell_type": "markdown",
      "metadata": {
        "id": "cojjq4GeRNVS"
      },
      "source": [
        "## **Quais são nossos melhores depósitos?**"
      ]
    },
    {
      "cell_type": "code",
      "metadata": {
        "colab": {
          "base_uri": "https://localhost:8080/",
          "height": 824
        },
        "id": "p81VnfYMMkLe",
        "outputId": "d386cabc-8054-492d-c3ce-bb6403f85ba1"
      },
      "source": [
        "# Cálculo do total de ordens por Centro de distribuição\n",
        "\n",
        "total_orders_center_id = df_final.groupby(['center_id', 'center_type'])['num_orders'].sum().sort_values(ascending=False).head(25).reset_index()\n",
        "total_orders_center_id"
      ],
      "execution_count": null,
      "outputs": [
        {
          "output_type": "execute_result",
          "data": {
            "text/html": [
              "<div>\n",
              "<style scoped>\n",
              "    .dataframe tbody tr th:only-of-type {\n",
              "        vertical-align: middle;\n",
              "    }\n",
              "\n",
              "    .dataframe tbody tr th {\n",
              "        vertical-align: top;\n",
              "    }\n",
              "\n",
              "    .dataframe thead th {\n",
              "        text-align: right;\n",
              "    }\n",
              "</style>\n",
              "<table border=\"1\" class=\"dataframe\">\n",
              "  <thead>\n",
              "    <tr style=\"text-align: right;\">\n",
              "      <th></th>\n",
              "      <th>center_id</th>\n",
              "      <th>center_type</th>\n",
              "      <th>num_orders</th>\n",
              "    </tr>\n",
              "  </thead>\n",
              "  <tbody>\n",
              "    <tr>\n",
              "      <th>0</th>\n",
              "      <td>13</td>\n",
              "      <td>TYPE_B</td>\n",
              "      <td>4296545</td>\n",
              "    </tr>\n",
              "    <tr>\n",
              "      <th>1</th>\n",
              "      <td>43</td>\n",
              "      <td>TYPE_A</td>\n",
              "      <td>3920294</td>\n",
              "    </tr>\n",
              "    <tr>\n",
              "      <th>2</th>\n",
              "      <td>10</td>\n",
              "      <td>TYPE_B</td>\n",
              "      <td>3381018</td>\n",
              "    </tr>\n",
              "    <tr>\n",
              "      <th>3</th>\n",
              "      <td>52</td>\n",
              "      <td>TYPE_B</td>\n",
              "      <td>3125835</td>\n",
              "    </tr>\n",
              "    <tr>\n",
              "      <th>4</th>\n",
              "      <td>137</td>\n",
              "      <td>TYPE_A</td>\n",
              "      <td>3117478</td>\n",
              "    </tr>\n",
              "    <tr>\n",
              "      <th>5</th>\n",
              "      <td>67</td>\n",
              "      <td>TYPE_B</td>\n",
              "      <td>2839493</td>\n",
              "    </tr>\n",
              "    <tr>\n",
              "      <th>6</th>\n",
              "      <td>11</td>\n",
              "      <td>TYPE_A</td>\n",
              "      <td>2797300</td>\n",
              "    </tr>\n",
              "    <tr>\n",
              "      <th>7</th>\n",
              "      <td>174</td>\n",
              "      <td>TYPE_A</td>\n",
              "      <td>2792587</td>\n",
              "    </tr>\n",
              "    <tr>\n",
              "      <th>8</th>\n",
              "      <td>104</td>\n",
              "      <td>TYPE_A</td>\n",
              "      <td>2427542</td>\n",
              "    </tr>\n",
              "    <tr>\n",
              "      <th>9</th>\n",
              "      <td>27</td>\n",
              "      <td>TYPE_A</td>\n",
              "      <td>2297698</td>\n",
              "    </tr>\n",
              "    <tr>\n",
              "      <th>10</th>\n",
              "      <td>108</td>\n",
              "      <td>TYPE_B</td>\n",
              "      <td>2264042</td>\n",
              "    </tr>\n",
              "    <tr>\n",
              "      <th>11</th>\n",
              "      <td>51</td>\n",
              "      <td>TYPE_A</td>\n",
              "      <td>2249169</td>\n",
              "    </tr>\n",
              "    <tr>\n",
              "      <th>12</th>\n",
              "      <td>99</td>\n",
              "      <td>TYPE_A</td>\n",
              "      <td>2103282</td>\n",
              "    </tr>\n",
              "    <tr>\n",
              "      <th>13</th>\n",
              "      <td>132</td>\n",
              "      <td>TYPE_A</td>\n",
              "      <td>2046793</td>\n",
              "    </tr>\n",
              "    <tr>\n",
              "      <th>14</th>\n",
              "      <td>24</td>\n",
              "      <td>TYPE_B</td>\n",
              "      <td>1997535</td>\n",
              "    </tr>\n",
              "    <tr>\n",
              "      <th>15</th>\n",
              "      <td>36</td>\n",
              "      <td>TYPE_B</td>\n",
              "      <td>1987250</td>\n",
              "    </tr>\n",
              "    <tr>\n",
              "      <th>16</th>\n",
              "      <td>89</td>\n",
              "      <td>TYPE_A</td>\n",
              "      <td>1969200</td>\n",
              "    </tr>\n",
              "    <tr>\n",
              "      <th>17</th>\n",
              "      <td>59</td>\n",
              "      <td>TYPE_A</td>\n",
              "      <td>1937221</td>\n",
              "    </tr>\n",
              "    <tr>\n",
              "      <th>18</th>\n",
              "      <td>146</td>\n",
              "      <td>TYPE_B</td>\n",
              "      <td>1906535</td>\n",
              "    </tr>\n",
              "    <tr>\n",
              "      <th>19</th>\n",
              "      <td>65</td>\n",
              "      <td>TYPE_A</td>\n",
              "      <td>1863630</td>\n",
              "    </tr>\n",
              "    <tr>\n",
              "      <th>20</th>\n",
              "      <td>126</td>\n",
              "      <td>TYPE_A</td>\n",
              "      <td>1863012</td>\n",
              "    </tr>\n",
              "    <tr>\n",
              "      <th>21</th>\n",
              "      <td>97</td>\n",
              "      <td>TYPE_A</td>\n",
              "      <td>1833427</td>\n",
              "    </tr>\n",
              "    <tr>\n",
              "      <th>22</th>\n",
              "      <td>30</td>\n",
              "      <td>TYPE_A</td>\n",
              "      <td>1812167</td>\n",
              "    </tr>\n",
              "    <tr>\n",
              "      <th>23</th>\n",
              "      <td>75</td>\n",
              "      <td>TYPE_B</td>\n",
              "      <td>1739081</td>\n",
              "    </tr>\n",
              "    <tr>\n",
              "      <th>24</th>\n",
              "      <td>80</td>\n",
              "      <td>TYPE_C</td>\n",
              "      <td>1721200</td>\n",
              "    </tr>\n",
              "  </tbody>\n",
              "</table>\n",
              "</div>"
            ],
            "text/plain": [
              "    center_id center_type  num_orders\n",
              "0          13      TYPE_B     4296545\n",
              "1          43      TYPE_A     3920294\n",
              "2          10      TYPE_B     3381018\n",
              "3          52      TYPE_B     3125835\n",
              "4         137      TYPE_A     3117478\n",
              "5          67      TYPE_B     2839493\n",
              "6          11      TYPE_A     2797300\n",
              "7         174      TYPE_A     2792587\n",
              "8         104      TYPE_A     2427542\n",
              "9          27      TYPE_A     2297698\n",
              "10        108      TYPE_B     2264042\n",
              "11         51      TYPE_A     2249169\n",
              "12         99      TYPE_A     2103282\n",
              "13        132      TYPE_A     2046793\n",
              "14         24      TYPE_B     1997535\n",
              "15         36      TYPE_B     1987250\n",
              "16         89      TYPE_A     1969200\n",
              "17         59      TYPE_A     1937221\n",
              "18        146      TYPE_B     1906535\n",
              "19         65      TYPE_A     1863630\n",
              "20        126      TYPE_A     1863012\n",
              "21         97      TYPE_A     1833427\n",
              "22         30      TYPE_A     1812167\n",
              "23         75      TYPE_B     1739081\n",
              "24         80      TYPE_C     1721200"
            ]
          },
          "metadata": {
            "tags": []
          },
          "execution_count": 69
        }
      ]
    },
    {
      "cell_type": "code",
      "metadata": {
        "colab": {
          "base_uri": "https://localhost:8080/",
          "height": 417
        },
        "id": "zp6PJsTGPHi0",
        "outputId": "d0f00c88-1b8c-459a-aba8-29811285566b"
      },
      "source": [
        "# Gráfico dos Centros de distribuição com maior número de pedidos\n",
        "\n",
        "fig_dims = (18, 6)\n",
        "fig, ax = plt.subplots(figsize=fig_dims)\n",
        "sns.barplot(x='center_id', y='num_orders', ax=ax, hue='center_type', data=total_orders_center_id)"
      ],
      "execution_count": null,
      "outputs": [
        {
          "output_type": "execute_result",
          "data": {
            "text/plain": [
              "<matplotlib.axes._subplots.AxesSubplot at 0x7fd05d23df60>"
            ]
          },
          "metadata": {
            "tags": []
          },
          "execution_count": 70
        },
        {
          "output_type": "display_data",
          "data": {
            "image/png": "[encoded data removed]",
            "text/plain": [
              "<Figure size 1296x432 with 1 Axes>"
            ]
          },
          "metadata": {
            "tags": []
          }
        }
      ]
    },
    {
      "cell_type": "code",
      "metadata": {
        "colab": {
          "base_uri": "https://localhost:8080/",
          "height": 142
        },
        "id": "wpverSx1X8BC",
        "outputId": "dafa1bca-99d0-4a91-f793-063b05f7b9f6"
      },
      "source": [
        "# Cálculo do total de ordens por tipo do Centro de distribuição\n",
        "\n",
        "total_orders_type_center_id = df_final.groupby(['center_type'])['num_orders'].sum().sort_values(ascending=False).reset_index()\n",
        "total_orders_type_center_id"
      ],
      "execution_count": null,
      "outputs": [
        {
          "output_type": "execute_result",
          "data": {
            "text/html": [
              "<div>\n",
              "<style scoped>\n",
              "    .dataframe tbody tr th:only-of-type {\n",
              "        vertical-align: middle;\n",
              "    }\n",
              "\n",
              "    .dataframe tbody tr th {\n",
              "        vertical-align: top;\n",
              "    }\n",
              "\n",
              "    .dataframe thead th {\n",
              "        text-align: right;\n",
              "    }\n",
              "</style>\n",
              "<table border=\"1\" class=\"dataframe\">\n",
              "  <thead>\n",
              "    <tr style=\"text-align: right;\">\n",
              "      <th></th>\n",
              "      <th>center_type</th>\n",
              "      <th>num_orders</th>\n",
              "    </tr>\n",
              "  </thead>\n",
              "  <tbody>\n",
              "    <tr>\n",
              "      <th>0</th>\n",
              "      <td>TYPE_A</td>\n",
              "      <td>68978517</td>\n",
              "    </tr>\n",
              "    <tr>\n",
              "      <th>1</th>\n",
              "      <td>TYPE_B</td>\n",
              "      <td>29996073</td>\n",
              "    </tr>\n",
              "    <tr>\n",
              "      <th>2</th>\n",
              "      <td>TYPE_C</td>\n",
              "      <td>20582895</td>\n",
              "    </tr>\n",
              "  </tbody>\n",
              "</table>\n",
              "</div>"
            ],
            "text/plain": [
              "  center_type  num_orders\n",
              "0      TYPE_A    68978517\n",
              "1      TYPE_B    29996073\n",
              "2      TYPE_C    20582895"
            ]
          },
          "metadata": {
            "tags": []
          },
          "execution_count": 71
        }
      ]
    },
    {
      "cell_type": "code",
      "metadata": {
        "colab": {
          "base_uri": "https://localhost:8080/"
        },
        "id": "lPDFqpSVvZ5p",
        "outputId": "f1ddaace-43c3-4f10-dfb7-5361aeb0bd2c"
      },
      "source": [
        "# Cálculo do número de depósitos por tipo\n",
        "\n",
        "numbers_type_center_id = df_final.groupby(['center_type'])['center_type'].value_counts()\n",
        "numbers_type_center_id"
      ],
      "execution_count": null,
      "outputs": [
        {
          "output_type": "execute_result",
          "data": {
            "text/plain": [
              "center_type  center_type\n",
              "TYPE_A       TYPE_A         262881\n",
              "TYPE_B       TYPE_B          94074\n",
              "TYPE_C       TYPE_C          99593\n",
              "Name: center_type, dtype: int64"
            ]
          },
          "metadata": {
            "tags": []
          },
          "execution_count": 72
        }
      ]
    },
    {
      "cell_type": "code",
      "metadata": {
        "colab": {
          "base_uri": "https://localhost:8080/",
          "height": 417
        },
        "id": "3e3p59uyYIbt",
        "outputId": "4795888c-339a-4657-b7a4-1699b9aaf4b2"
      },
      "source": [
        "# Gráfico dos tipos de Centros de distribuição com maior número de pedidos\n",
        "\n",
        "fig_dims = (6, 6)\n",
        "fig, ax = plt.subplots(figsize=fig_dims)\n",
        "sns.barplot(x='center_type', y='num_orders', ax=ax, data=total_orders_type_center_id)"
      ],
      "execution_count": null,
      "outputs": [
        {
          "output_type": "execute_result",
          "data": {
            "text/plain": [
              "<matplotlib.axes._subplots.AxesSubplot at 0x7fd05cfe5eb8>"
            ]
          },
          "metadata": {
            "tags": []
          },
          "execution_count": 73
        },
        {
          "output_type": "display_data",
          "data": {
            "image/png": "[encoded data removed]",
            "text/plain": [
              "<Figure size 432x432 with 1 Axes>"
            ]
          },
          "metadata": {
            "tags": []
          }
        }
      ]
    },
    {
      "cell_type": "markdown",
      "metadata": {
        "id": "Ky1V8l14Wkcw"
      },
      "source": [
        "## **Qual o preço médio das refeições?**"
      ]
    },
    {
      "cell_type": "code",
      "metadata": {
        "colab": {
          "base_uri": "https://localhost:8080/",
          "height": 515
        },
        "id": "J8DBKrvisasR",
        "outputId": "7df87b12-4c49-4cb3-cf5c-42e4bd5bef24"
      },
      "source": [
        "# Gráfico de dispersão entre preço final e número de pedidos\n",
        "\n",
        "y = df_final['num_orders']\n",
        "x = df_final['checkout_price']\n",
        "\n",
        "fig_dims = (24, 8)\n",
        "fig, ax = plt.subplots(figsize=fig_dims)\n",
        "sns.scatterplot(data=df_final,y='num_orders',x='checkout_price', ax=ax)"
      ],
      "execution_count": null,
      "outputs": [
        {
          "output_type": "execute_result",
          "data": {
            "text/plain": [
              "<matplotlib.axes._subplots.AxesSubplot at 0x7fd05cf2c160>"
            ]
          },
          "metadata": {
            "tags": []
          },
          "execution_count": 74
        },
        {
          "output_type": "display_data",
          "data": {
            "image/png": "[encoded data removed]",
            "text/plain": [
              "<Figure size 1728x576 with 1 Axes>"
            ]
          },
          "metadata": {
            "tags": []
          }
        }
      ]
    },
    {
      "cell_type": "code",
      "metadata": {
        "colab": {
          "base_uri": "https://localhost:8080/"
        },
        "id": "0YYsd2tkbp3_",
        "outputId": "5d716e1a-e999-45b8-c44e-8ccd11316752"
      },
      "source": [
        "df_final.category.unique()"
      ],
      "execution_count": null,
      "outputs": [
        {
          "output_type": "execute_result",
          "data": {
            "text/plain": [
              "array(['Beverages', 'Other Snacks', 'Seafood', 'Desert', 'Pizza',\n",
              "       'Biryani', 'Extras', 'Starters', 'Pasta', 'Rice Bowl', 'Sandwich',\n",
              "       'Soup', 'Salad', 'Fish'], dtype=object)"
            ]
          },
          "metadata": {
            "tags": []
          },
          "execution_count": 75
        }
      ]
    },
    {
      "cell_type": "code",
      "metadata": {
        "colab": {
          "base_uri": "https://localhost:8080/",
          "height": 541
        },
        "id": "TVq7HTYadNYa",
        "outputId": "3e5043cd-7d34-45ec-f512-f24cc47bf560"
      },
      "source": [
        "# Filtro na base de dados somente refeições (Sem bebidas)\n",
        "\n",
        "total_orders_food = df_final[df_final['category']!='Beverages']\n",
        "total_orders_food"
      ],
      "execution_count": null,
      "outputs": [
        {
          "output_type": "execute_result",
          "data": {
            "text/html": [
              "<div>\n",
              "<style scoped>\n",
              "    .dataframe tbody tr th:only-of-type {\n",
              "        vertical-align: middle;\n",
              "    }\n",
              "\n",
              "    .dataframe tbody tr th {\n",
              "        vertical-align: top;\n",
              "    }\n",
              "\n",
              "    .dataframe thead th {\n",
              "        text-align: right;\n",
              "    }\n",
              "</style>\n",
              "<table border=\"1\" class=\"dataframe\">\n",
              "  <thead>\n",
              "    <tr style=\"text-align: right;\">\n",
              "      <th></th>\n",
              "      <th>id</th>\n",
              "      <th>week</th>\n",
              "      <th>center_id</th>\n",
              "      <th>meal_id</th>\n",
              "      <th>checkout_price</th>\n",
              "      <th>base_price</th>\n",
              "      <th>emailer_for_promotion</th>\n",
              "      <th>homepage_featured</th>\n",
              "      <th>num_orders</th>\n",
              "      <th>city_code</th>\n",
              "      <th>region_code</th>\n",
              "      <th>center_type</th>\n",
              "      <th>op_area</th>\n",
              "      <th>category</th>\n",
              "      <th>cuisine</th>\n",
              "      <th>total_price</th>\n",
              "    </tr>\n",
              "  </thead>\n",
              "  <tbody>\n",
              "    <tr>\n",
              "      <th>299714</th>\n",
              "      <td>1102584</td>\n",
              "      <td>1</td>\n",
              "      <td>11</td>\n",
              "      <td>1525</td>\n",
              "      <td>242.50</td>\n",
              "      <td>282.33</td>\n",
              "      <td>0</td>\n",
              "      <td>1</td>\n",
              "      <td>460</td>\n",
              "      <td>679</td>\n",
              "      <td>56</td>\n",
              "      <td>TYPE_A</td>\n",
              "      <td>3.7</td>\n",
              "      <td>Other Snacks</td>\n",
              "      <td>Thai</td>\n",
              "      <td>111550.00</td>\n",
              "    </tr>\n",
              "    <tr>\n",
              "      <th>299851</th>\n",
              "      <td>1026447</td>\n",
              "      <td>1</td>\n",
              "      <td>83</td>\n",
              "      <td>1525</td>\n",
              "      <td>244.50</td>\n",
              "      <td>281.33</td>\n",
              "      <td>0</td>\n",
              "      <td>0</td>\n",
              "      <td>94</td>\n",
              "      <td>659</td>\n",
              "      <td>77</td>\n",
              "      <td>TYPE_A</td>\n",
              "      <td>5.3</td>\n",
              "      <td>Other Snacks</td>\n",
              "      <td>Thai</td>\n",
              "      <td>22983.00</td>\n",
              "    </tr>\n",
              "    <tr>\n",
              "      <th>299996</th>\n",
              "      <td>1177435</td>\n",
              "      <td>1</td>\n",
              "      <td>32</td>\n",
              "      <td>1525</td>\n",
              "      <td>249.29</td>\n",
              "      <td>251.29</td>\n",
              "      <td>0</td>\n",
              "      <td>0</td>\n",
              "      <td>82</td>\n",
              "      <td>526</td>\n",
              "      <td>34</td>\n",
              "      <td>TYPE_A</td>\n",
              "      <td>3.8</td>\n",
              "      <td>Other Snacks</td>\n",
              "      <td>Thai</td>\n",
              "      <td>20441.78</td>\n",
              "    </tr>\n",
              "    <tr>\n",
              "      <th>300141</th>\n",
              "      <td>1405620</td>\n",
              "      <td>1</td>\n",
              "      <td>13</td>\n",
              "      <td>1525</td>\n",
              "      <td>242.50</td>\n",
              "      <td>281.33</td>\n",
              "      <td>0</td>\n",
              "      <td>1</td>\n",
              "      <td>1202</td>\n",
              "      <td>590</td>\n",
              "      <td>56</td>\n",
              "      <td>TYPE_B</td>\n",
              "      <td>6.7</td>\n",
              "      <td>Other Snacks</td>\n",
              "      <td>Thai</td>\n",
              "      <td>291485.00</td>\n",
              "    </tr>\n",
              "    <tr>\n",
              "      <th>300277</th>\n",
              "      <td>1008177</td>\n",
              "      <td>1</td>\n",
              "      <td>109</td>\n",
              "      <td>1525</td>\n",
              "      <td>242.50</td>\n",
              "      <td>282.33</td>\n",
              "      <td>0</td>\n",
              "      <td>0</td>\n",
              "      <td>217</td>\n",
              "      <td>599</td>\n",
              "      <td>56</td>\n",
              "      <td>TYPE_A</td>\n",
              "      <td>3.6</td>\n",
              "      <td>Other Snacks</td>\n",
              "      <td>Thai</td>\n",
              "      <td>52622.50</td>\n",
              "    </tr>\n",
              "    <tr>\n",
              "      <th>...</th>\n",
              "      <td>...</td>\n",
              "      <td>...</td>\n",
              "      <td>...</td>\n",
              "      <td>...</td>\n",
              "      <td>...</td>\n",
              "      <td>...</td>\n",
              "      <td>...</td>\n",
              "      <td>...</td>\n",
              "      <td>...</td>\n",
              "      <td>...</td>\n",
              "      <td>...</td>\n",
              "      <td>...</td>\n",
              "      <td>...</td>\n",
              "      <td>...</td>\n",
              "      <td>...</td>\n",
              "      <td>...</td>\n",
              "    </tr>\n",
              "    <tr>\n",
              "      <th>243994</th>\n",
              "      <td>1186057</td>\n",
              "      <td>145</td>\n",
              "      <td>177</td>\n",
              "      <td>1558</td>\n",
              "      <td>547.08</td>\n",
              "      <td>547.08</td>\n",
              "      <td>0</td>\n",
              "      <td>0</td>\n",
              "      <td>42</td>\n",
              "      <td>683</td>\n",
              "      <td>56</td>\n",
              "      <td>TYPE_A</td>\n",
              "      <td>3.4</td>\n",
              "      <td>Pizza</td>\n",
              "      <td>Continental</td>\n",
              "      <td>22977.36</td>\n",
              "    </tr>\n",
              "    <tr>\n",
              "      <th>364068</th>\n",
              "      <td>1126639</td>\n",
              "      <td>145</td>\n",
              "      <td>39</td>\n",
              "      <td>1247</td>\n",
              "      <td>446.23</td>\n",
              "      <td>446.23</td>\n",
              "      <td>0</td>\n",
              "      <td>0</td>\n",
              "      <td>14</td>\n",
              "      <td>526</td>\n",
              "      <td>34</td>\n",
              "      <td>TYPE_C</td>\n",
              "      <td>3.8</td>\n",
              "      <td>Biryani</td>\n",
              "      <td>Indian</td>\n",
              "      <td>6247.22</td>\n",
              "    </tr>\n",
              "    <tr>\n",
              "      <th>243852</th>\n",
              "      <td>1476913</td>\n",
              "      <td>145</td>\n",
              "      <td>75</td>\n",
              "      <td>1558</td>\n",
              "      <td>548.08</td>\n",
              "      <td>549.08</td>\n",
              "      <td>0</td>\n",
              "      <td>0</td>\n",
              "      <td>175</td>\n",
              "      <td>651</td>\n",
              "      <td>77</td>\n",
              "      <td>TYPE_B</td>\n",
              "      <td>4.7</td>\n",
              "      <td>Pizza</td>\n",
              "      <td>Continental</td>\n",
              "      <td>95914.00</td>\n",
              "    </tr>\n",
              "    <tr>\n",
              "      <th>130329</th>\n",
              "      <td>1193828</td>\n",
              "      <td>145</td>\n",
              "      <td>97</td>\n",
              "      <td>2290</td>\n",
              "      <td>272.60</td>\n",
              "      <td>271.60</td>\n",
              "      <td>0</td>\n",
              "      <td>0</td>\n",
              "      <td>473</td>\n",
              "      <td>628</td>\n",
              "      <td>77</td>\n",
              "      <td>TYPE_A</td>\n",
              "      <td>4.6</td>\n",
              "      <td>Rice Bowl</td>\n",
              "      <td>Indian</td>\n",
              "      <td>128939.80</td>\n",
              "    </tr>\n",
              "    <tr>\n",
              "      <th>456547</th>\n",
              "      <td>1443704</td>\n",
              "      <td>145</td>\n",
              "      <td>61</td>\n",
              "      <td>2104</td>\n",
              "      <td>581.03</td>\n",
              "      <td>582.03</td>\n",
              "      <td>0</td>\n",
              "      <td>0</td>\n",
              "      <td>27</td>\n",
              "      <td>473</td>\n",
              "      <td>77</td>\n",
              "      <td>TYPE_A</td>\n",
              "      <td>4.5</td>\n",
              "      <td>Fish</td>\n",
              "      <td>Continental</td>\n",
              "      <td>15687.81</td>\n",
              "    </tr>\n",
              "  </tbody>\n",
              "</table>\n",
              "<p>328658 rows × 16 columns</p>\n",
              "</div>"
            ],
            "text/plain": [
              "             id  week  center_id  ...      category      cuisine  total_price\n",
              "299714  1102584     1         11  ...  Other Snacks         Thai    111550.00\n",
              "299851  1026447     1         83  ...  Other Snacks         Thai     22983.00\n",
              "299996  1177435     1         32  ...  Other Snacks         Thai     20441.78\n",
              "300141  1405620     1         13  ...  Other Snacks         Thai    291485.00\n",
              "300277  1008177     1        109  ...  Other Snacks         Thai     52622.50\n",
              "...         ...   ...        ...  ...           ...          ...          ...\n",
              "243994  1186057   145        177  ...         Pizza  Continental     22977.36\n",
              "364068  1126639   145         39  ...       Biryani       Indian      6247.22\n",
              "243852  1476913   145         75  ...         Pizza  Continental     95914.00\n",
              "130329  1193828   145         97  ...     Rice Bowl       Indian    128939.80\n",
              "456547  1443704   145         61  ...          Fish  Continental     15687.81\n",
              "\n",
              "[328658 rows x 16 columns]"
            ]
          },
          "metadata": {
            "tags": []
          },
          "execution_count": 76
        }
      ]
    },
    {
      "cell_type": "code",
      "metadata": {
        "colab": {
          "base_uri": "https://localhost:8080/",
          "height": 297
        },
        "id": "17_zK5XOjNhu",
        "outputId": "1ac8a3c6-7bad-4af2-c6e4-afeda708d378"
      },
      "source": [
        "total_orders_food[['checkout_price', 'base_price']].describe()"
      ],
      "execution_count": null,
      "outputs": [
        {
          "output_type": "execute_result",
          "data": {
            "text/html": [
              "<div>\n",
              "<style scoped>\n",
              "    .dataframe tbody tr th:only-of-type {\n",
              "        vertical-align: middle;\n",
              "    }\n",
              "\n",
              "    .dataframe tbody tr th {\n",
              "        vertical-align: top;\n",
              "    }\n",
              "\n",
              "    .dataframe thead th {\n",
              "        text-align: right;\n",
              "    }\n",
              "</style>\n",
              "<table border=\"1\" class=\"dataframe\">\n",
              "  <thead>\n",
              "    <tr style=\"text-align: right;\">\n",
              "      <th></th>\n",
              "      <th>checkout_price</th>\n",
              "      <th>base_price</th>\n",
              "    </tr>\n",
              "  </thead>\n",
              "  <tbody>\n",
              "    <tr>\n",
              "      <th>count</th>\n",
              "      <td>328658.000000</td>\n",
              "      <td>328658.000000</td>\n",
              "    </tr>\n",
              "    <tr>\n",
              "      <th>mean</th>\n",
              "      <td>378.535390</td>\n",
              "      <td>403.693396</td>\n",
              "    </tr>\n",
              "    <tr>\n",
              "      <th>std</th>\n",
              "      <td>145.228081</td>\n",
              "      <td>151.478209</td>\n",
              "    </tr>\n",
              "    <tr>\n",
              "      <th>min</th>\n",
              "      <td>55.350000</td>\n",
              "      <td>55.350000</td>\n",
              "    </tr>\n",
              "    <tr>\n",
              "      <th>25%</th>\n",
              "      <td>272.630000</td>\n",
              "      <td>287.150000</td>\n",
              "    </tr>\n",
              "    <tr>\n",
              "      <th>50%</th>\n",
              "      <td>324.010000</td>\n",
              "      <td>330.800000</td>\n",
              "    </tr>\n",
              "    <tr>\n",
              "      <th>75%</th>\n",
              "      <td>484.030000</td>\n",
              "      <td>503.430000</td>\n",
              "    </tr>\n",
              "    <tr>\n",
              "      <th>max</th>\n",
              "      <td>866.270000</td>\n",
              "      <td>866.270000</td>\n",
              "    </tr>\n",
              "  </tbody>\n",
              "</table>\n",
              "</div>"
            ],
            "text/plain": [
              "       checkout_price     base_price\n",
              "count   328658.000000  328658.000000\n",
              "mean       378.535390     403.693396\n",
              "std        145.228081     151.478209\n",
              "min         55.350000      55.350000\n",
              "25%        272.630000     287.150000\n",
              "50%        324.010000     330.800000\n",
              "75%        484.030000     503.430000\n",
              "max        866.270000     866.270000"
            ]
          },
          "metadata": {
            "tags": []
          },
          "execution_count": 77
        }
      ]
    },
    {
      "cell_type": "markdown",
      "metadata": {
        "id": "yNGajmAx31G_"
      },
      "source": [
        "**A média das refeições é de 378.53 com desvio padrão de 145.23**"
      ]
    },
    {
      "cell_type": "markdown",
      "metadata": {
        "id": "0q3T6IdaWkJh"
      },
      "source": [
        "## **Anúncio por homepage ou e-mail?**"
      ]
    },
    {
      "cell_type": "code",
      "metadata": {
        "colab": {
          "base_uri": "https://localhost:8080/",
          "height": 715
        },
        "id": "2cKV5JE43-x4",
        "outputId": "c00b08a5-8b75-4ce5-c980-9ea5ebe30c02"
      },
      "source": [
        "# Matriz de correlação\n",
        "\n",
        "mat_corr = df_final.corr()\n",
        "fig = plt.figure(figsize = (14, 10))\n",
        "\n",
        "sns.heatmap(mat_corr, annot = True)"
      ],
      "execution_count": null,
      "outputs": [
        {
          "output_type": "execute_result",
          "data": {
            "text/plain": [
              "<matplotlib.axes._subplots.AxesSubplot at 0x7fd074086160>"
            ]
          },
          "metadata": {
            "tags": []
          },
          "execution_count": 78
        },
        {
          "output_type": "display_data",
          "data": {
            "image/png": "[encoded data removed]",
            "text/plain": [
              "<Figure size 1008x720 with 2 Axes>"
            ]
          },
          "metadata": {
            "tags": []
          }
        }
      ]
    },
    {
      "cell_type": "markdown",
      "metadata": {
        "id": "ItWhx77o5HmK"
      },
      "source": [
        "**Observa-se na matriz de correlação, para o atributo \"num_orders\" existe correlação positiva com \"homepage_featured\" e \"emailer_for_promotion\" e negativa com \"checkout_price\".**"
      ]
    },
    {
      "cell_type": "code",
      "metadata": {
        "colab": {
          "base_uri": "https://localhost:8080/",
          "height": 439
        },
        "id": "JWoxuC0F_SyM",
        "outputId": "27f78bc3-7400-4a69-d7ff-e1cd4bb782f2"
      },
      "source": [
        "# Filtro na base de dados somente com \"emailer_for_promotion\"\t\n",
        "\n",
        "total_orders_email = df_final[(df_final['emailer_for_promotion']==1) & (df_final['homepage_featured']==0)]\n",
        "total_orders_email"
      ],
      "execution_count": null,
      "outputs": [
        {
          "output_type": "execute_result",
          "data": {
            "text/html": [
              "<div>\n",
              "<style scoped>\n",
              "    .dataframe tbody tr th:only-of-type {\n",
              "        vertical-align: middle;\n",
              "    }\n",
              "\n",
              "    .dataframe tbody tr th {\n",
              "        vertical-align: top;\n",
              "    }\n",
              "\n",
              "    .dataframe thead th {\n",
              "        text-align: right;\n",
              "    }\n",
              "</style>\n",
              "<table border=\"1\" class=\"dataframe\">\n",
              "  <thead>\n",
              "    <tr style=\"text-align: right;\">\n",
              "      <th></th>\n",
              "      <th>id</th>\n",
              "      <th>week</th>\n",
              "      <th>center_id</th>\n",
              "      <th>meal_id</th>\n",
              "      <th>checkout_price</th>\n",
              "      <th>base_price</th>\n",
              "      <th>emailer_for_promotion</th>\n",
              "      <th>homepage_featured</th>\n",
              "      <th>num_orders</th>\n",
              "      <th>city_code</th>\n",
              "      <th>region_code</th>\n",
              "      <th>center_type</th>\n",
              "      <th>op_area</th>\n",
              "      <th>category</th>\n",
              "      <th>cuisine</th>\n",
              "      <th>total_price</th>\n",
              "    </tr>\n",
              "  </thead>\n",
              "  <tbody>\n",
              "    <tr>\n",
              "      <th>255989</th>\n",
              "      <td>1174669</td>\n",
              "      <td>1</td>\n",
              "      <td>153</td>\n",
              "      <td>2581</td>\n",
              "      <td>581.03</td>\n",
              "      <td>611.13</td>\n",
              "      <td>1</td>\n",
              "      <td>0</td>\n",
              "      <td>270</td>\n",
              "      <td>590</td>\n",
              "      <td>56</td>\n",
              "      <td>TYPE_A</td>\n",
              "      <td>3.9</td>\n",
              "      <td>Pizza</td>\n",
              "      <td>Continental</td>\n",
              "      <td>156878.10</td>\n",
              "    </tr>\n",
              "    <tr>\n",
              "      <th>256276</th>\n",
              "      <td>1068195</td>\n",
              "      <td>1</td>\n",
              "      <td>161</td>\n",
              "      <td>2581</td>\n",
              "      <td>583.03</td>\n",
              "      <td>613.07</td>\n",
              "      <td>1</td>\n",
              "      <td>0</td>\n",
              "      <td>122</td>\n",
              "      <td>658</td>\n",
              "      <td>34</td>\n",
              "      <td>TYPE_B</td>\n",
              "      <td>3.9</td>\n",
              "      <td>Pizza</td>\n",
              "      <td>Continental</td>\n",
              "      <td>71129.66</td>\n",
              "    </tr>\n",
              "    <tr>\n",
              "      <th>256419</th>\n",
              "      <td>1039363</td>\n",
              "      <td>1</td>\n",
              "      <td>81</td>\n",
              "      <td>2581</td>\n",
              "      <td>582.03</td>\n",
              "      <td>611.13</td>\n",
              "      <td>1</td>\n",
              "      <td>0</td>\n",
              "      <td>283</td>\n",
              "      <td>526</td>\n",
              "      <td>34</td>\n",
              "      <td>TYPE_A</td>\n",
              "      <td>4.0</td>\n",
              "      <td>Pizza</td>\n",
              "      <td>Continental</td>\n",
              "      <td>164714.49</td>\n",
              "    </tr>\n",
              "    <tr>\n",
              "      <th>256564</th>\n",
              "      <td>1447733</td>\n",
              "      <td>1</td>\n",
              "      <td>26</td>\n",
              "      <td>2581</td>\n",
              "      <td>585.91</td>\n",
              "      <td>611.13</td>\n",
              "      <td>1</td>\n",
              "      <td>0</td>\n",
              "      <td>121</td>\n",
              "      <td>515</td>\n",
              "      <td>77</td>\n",
              "      <td>TYPE_C</td>\n",
              "      <td>3.0</td>\n",
              "      <td>Pizza</td>\n",
              "      <td>Continental</td>\n",
              "      <td>70895.11</td>\n",
              "    </tr>\n",
              "    <tr>\n",
              "      <th>256852</th>\n",
              "      <td>1183308</td>\n",
              "      <td>1</td>\n",
              "      <td>50</td>\n",
              "      <td>2581</td>\n",
              "      <td>582.03</td>\n",
              "      <td>614.07</td>\n",
              "      <td>1</td>\n",
              "      <td>0</td>\n",
              "      <td>162</td>\n",
              "      <td>556</td>\n",
              "      <td>77</td>\n",
              "      <td>TYPE_A</td>\n",
              "      <td>4.8</td>\n",
              "      <td>Pizza</td>\n",
              "      <td>Continental</td>\n",
              "      <td>94288.86</td>\n",
              "    </tr>\n",
              "    <tr>\n",
              "      <th>...</th>\n",
              "      <td>...</td>\n",
              "      <td>...</td>\n",
              "      <td>...</td>\n",
              "      <td>...</td>\n",
              "      <td>...</td>\n",
              "      <td>...</td>\n",
              "      <td>...</td>\n",
              "      <td>...</td>\n",
              "      <td>...</td>\n",
              "      <td>...</td>\n",
              "      <td>...</td>\n",
              "      <td>...</td>\n",
              "      <td>...</td>\n",
              "      <td>...</td>\n",
              "      <td>...</td>\n",
              "      <td>...</td>\n",
              "    </tr>\n",
              "    <tr>\n",
              "      <th>77398</th>\n",
              "      <td>1382398</td>\n",
              "      <td>145</td>\n",
              "      <td>162</td>\n",
              "      <td>1062</td>\n",
              "      <td>160.05</td>\n",
              "      <td>158.17</td>\n",
              "      <td>1</td>\n",
              "      <td>0</td>\n",
              "      <td>95</td>\n",
              "      <td>526</td>\n",
              "      <td>34</td>\n",
              "      <td>TYPE_C</td>\n",
              "      <td>2.0</td>\n",
              "      <td>Beverages</td>\n",
              "      <td>Italian</td>\n",
              "      <td>15204.75</td>\n",
              "    </tr>\n",
              "    <tr>\n",
              "      <th>72205</th>\n",
              "      <td>1066191</td>\n",
              "      <td>145</td>\n",
              "      <td>110</td>\n",
              "      <td>1778</td>\n",
              "      <td>157.20</td>\n",
              "      <td>152.29</td>\n",
              "      <td>1</td>\n",
              "      <td>0</td>\n",
              "      <td>405</td>\n",
              "      <td>485</td>\n",
              "      <td>77</td>\n",
              "      <td>TYPE_A</td>\n",
              "      <td>3.8</td>\n",
              "      <td>Beverages</td>\n",
              "      <td>Italian</td>\n",
              "      <td>63666.00</td>\n",
              "    </tr>\n",
              "    <tr>\n",
              "      <th>77688</th>\n",
              "      <td>1149574</td>\n",
              "      <td>145</td>\n",
              "      <td>177</td>\n",
              "      <td>1062</td>\n",
              "      <td>155.26</td>\n",
              "      <td>154.26</td>\n",
              "      <td>1</td>\n",
              "      <td>0</td>\n",
              "      <td>688</td>\n",
              "      <td>683</td>\n",
              "      <td>56</td>\n",
              "      <td>TYPE_A</td>\n",
              "      <td>3.4</td>\n",
              "      <td>Beverages</td>\n",
              "      <td>Italian</td>\n",
              "      <td>106818.88</td>\n",
              "    </tr>\n",
              "    <tr>\n",
              "      <th>77543</th>\n",
              "      <td>1047314</td>\n",
              "      <td>145</td>\n",
              "      <td>75</td>\n",
              "      <td>1062</td>\n",
              "      <td>158.11</td>\n",
              "      <td>152.32</td>\n",
              "      <td>1</td>\n",
              "      <td>0</td>\n",
              "      <td>703</td>\n",
              "      <td>651</td>\n",
              "      <td>77</td>\n",
              "      <td>TYPE_B</td>\n",
              "      <td>4.7</td>\n",
              "      <td>Beverages</td>\n",
              "      <td>Italian</td>\n",
              "      <td>111151.33</td>\n",
              "    </tr>\n",
              "    <tr>\n",
              "      <th>63668</th>\n",
              "      <td>1204010</td>\n",
              "      <td>145</td>\n",
              "      <td>57</td>\n",
              "      <td>1778</td>\n",
              "      <td>161.05</td>\n",
              "      <td>161.99</td>\n",
              "      <td>1</td>\n",
              "      <td>0</td>\n",
              "      <td>216</td>\n",
              "      <td>541</td>\n",
              "      <td>77</td>\n",
              "      <td>TYPE_C</td>\n",
              "      <td>2.8</td>\n",
              "      <td>Beverages</td>\n",
              "      <td>Italian</td>\n",
              "      <td>34786.80</td>\n",
              "    </tr>\n",
              "  </tbody>\n",
              "</table>\n",
              "<p>17819 rows × 16 columns</p>\n",
              "</div>"
            ],
            "text/plain": [
              "             id  week  center_id  ...   category      cuisine  total_price\n",
              "255989  1174669     1        153  ...      Pizza  Continental    156878.10\n",
              "256276  1068195     1        161  ...      Pizza  Continental     71129.66\n",
              "256419  1039363     1         81  ...      Pizza  Continental    164714.49\n",
              "256564  1447733     1         26  ...      Pizza  Continental     70895.11\n",
              "256852  1183308     1         50  ...      Pizza  Continental     94288.86\n",
              "...         ...   ...        ...  ...        ...          ...          ...\n",
              "77398   1382398   145        162  ...  Beverages      Italian     15204.75\n",
              "72205   1066191   145        110  ...  Beverages      Italian     63666.00\n",
              "77688   1149574   145        177  ...  Beverages      Italian    106818.88\n",
              "77543   1047314   145         75  ...  Beverages      Italian    111151.33\n",
              "63668   1204010   145         57  ...  Beverages      Italian     34786.80\n",
              "\n",
              "[17819 rows x 16 columns]"
            ]
          },
          "metadata": {
            "tags": []
          },
          "execution_count": 79
        }
      ]
    },
    {
      "cell_type": "code",
      "metadata": {
        "colab": {
          "base_uri": "https://localhost:8080/",
          "height": 507
        },
        "id": "ht2LKvRwBrJz",
        "outputId": "38677cb9-53ca-4f69-e89b-aa0405e6b7e5"
      },
      "source": [
        "# Filtro na base de dados somente com \"homepage_featured\"\t\n",
        "\n",
        "total_orders_hp = df_final[(df_final['emailer_for_promotion']==0) & (df_final['homepage_featured']==1)]\n",
        "total_orders_hp"
      ],
      "execution_count": null,
      "outputs": [
        {
          "output_type": "execute_result",
          "data": {
            "text/html": [
              "<div>\n",
              "<style scoped>\n",
              "    .dataframe tbody tr th:only-of-type {\n",
              "        vertical-align: middle;\n",
              "    }\n",
              "\n",
              "    .dataframe tbody tr th {\n",
              "        vertical-align: top;\n",
              "    }\n",
              "\n",
              "    .dataframe thead th {\n",
              "        text-align: right;\n",
              "    }\n",
              "</style>\n",
              "<table border=\"1\" class=\"dataframe\">\n",
              "  <thead>\n",
              "    <tr style=\"text-align: right;\">\n",
              "      <th></th>\n",
              "      <th>id</th>\n",
              "      <th>week</th>\n",
              "      <th>center_id</th>\n",
              "      <th>meal_id</th>\n",
              "      <th>checkout_price</th>\n",
              "      <th>base_price</th>\n",
              "      <th>emailer_for_promotion</th>\n",
              "      <th>homepage_featured</th>\n",
              "      <th>num_orders</th>\n",
              "      <th>city_code</th>\n",
              "      <th>region_code</th>\n",
              "      <th>center_type</th>\n",
              "      <th>op_area</th>\n",
              "      <th>category</th>\n",
              "      <th>cuisine</th>\n",
              "      <th>total_price</th>\n",
              "    </tr>\n",
              "  </thead>\n",
              "  <tbody>\n",
              "    <tr>\n",
              "      <th>299714</th>\n",
              "      <td>1102584</td>\n",
              "      <td>1</td>\n",
              "      <td>11</td>\n",
              "      <td>1525</td>\n",
              "      <td>242.50</td>\n",
              "      <td>282.33</td>\n",
              "      <td>0</td>\n",
              "      <td>1</td>\n",
              "      <td>460</td>\n",
              "      <td>679</td>\n",
              "      <td>56</td>\n",
              "      <td>TYPE_A</td>\n",
              "      <td>3.7</td>\n",
              "      <td>Other Snacks</td>\n",
              "      <td>Thai</td>\n",
              "      <td>111550.00</td>\n",
              "    </tr>\n",
              "    <tr>\n",
              "      <th>300141</th>\n",
              "      <td>1405620</td>\n",
              "      <td>1</td>\n",
              "      <td>13</td>\n",
              "      <td>1525</td>\n",
              "      <td>242.50</td>\n",
              "      <td>281.33</td>\n",
              "      <td>0</td>\n",
              "      <td>1</td>\n",
              "      <td>1202</td>\n",
              "      <td>590</td>\n",
              "      <td>56</td>\n",
              "      <td>TYPE_B</td>\n",
              "      <td>6.7</td>\n",
              "      <td>Other Snacks</td>\n",
              "      <td>Thai</td>\n",
              "      <td>291485.00</td>\n",
              "    </tr>\n",
              "    <tr>\n",
              "      <th>301744</th>\n",
              "      <td>1220934</td>\n",
              "      <td>1</td>\n",
              "      <td>99</td>\n",
              "      <td>1525</td>\n",
              "      <td>243.50</td>\n",
              "      <td>280.33</td>\n",
              "      <td>0</td>\n",
              "      <td>1</td>\n",
              "      <td>271</td>\n",
              "      <td>596</td>\n",
              "      <td>71</td>\n",
              "      <td>TYPE_A</td>\n",
              "      <td>4.5</td>\n",
              "      <td>Other Snacks</td>\n",
              "      <td>Thai</td>\n",
              "      <td>65988.50</td>\n",
              "    </tr>\n",
              "    <tr>\n",
              "      <th>30705</th>\n",
              "      <td>1371071</td>\n",
              "      <td>1</td>\n",
              "      <td>10</td>\n",
              "      <td>2539</td>\n",
              "      <td>133.86</td>\n",
              "      <td>126.16</td>\n",
              "      <td>0</td>\n",
              "      <td>1</td>\n",
              "      <td>647</td>\n",
              "      <td>590</td>\n",
              "      <td>56</td>\n",
              "      <td>TYPE_B</td>\n",
              "      <td>6.3</td>\n",
              "      <td>Beverages</td>\n",
              "      <td>Thai</td>\n",
              "      <td>86607.42</td>\n",
              "    </tr>\n",
              "    <tr>\n",
              "      <th>299371</th>\n",
              "      <td>1045856</td>\n",
              "      <td>1</td>\n",
              "      <td>61</td>\n",
              "      <td>2867</td>\n",
              "      <td>677.12</td>\n",
              "      <td>658.63</td>\n",
              "      <td>0</td>\n",
              "      <td>1</td>\n",
              "      <td>40</td>\n",
              "      <td>473</td>\n",
              "      <td>77</td>\n",
              "      <td>TYPE_A</td>\n",
              "      <td>4.5</td>\n",
              "      <td>Seafood</td>\n",
              "      <td>Continental</td>\n",
              "      <td>27084.80</td>\n",
              "    </tr>\n",
              "    <tr>\n",
              "      <th>...</th>\n",
              "      <td>...</td>\n",
              "      <td>...</td>\n",
              "      <td>...</td>\n",
              "      <td>...</td>\n",
              "      <td>...</td>\n",
              "      <td>...</td>\n",
              "      <td>...</td>\n",
              "      <td>...</td>\n",
              "      <td>...</td>\n",
              "      <td>...</td>\n",
              "      <td>...</td>\n",
              "      <td>...</td>\n",
              "      <td>...</td>\n",
              "      <td>...</td>\n",
              "      <td>...</td>\n",
              "      <td>...</td>\n",
              "    </tr>\n",
              "    <tr>\n",
              "      <th>26894</th>\n",
              "      <td>1313072</td>\n",
              "      <td>145</td>\n",
              "      <td>106</td>\n",
              "      <td>2539</td>\n",
              "      <td>121.28</td>\n",
              "      <td>119.31</td>\n",
              "      <td>0</td>\n",
              "      <td>1</td>\n",
              "      <td>269</td>\n",
              "      <td>675</td>\n",
              "      <td>34</td>\n",
              "      <td>TYPE_A</td>\n",
              "      <td>4.0</td>\n",
              "      <td>Beverages</td>\n",
              "      <td>Thai</td>\n",
              "      <td>32624.32</td>\n",
              "    </tr>\n",
              "    <tr>\n",
              "      <th>283705</th>\n",
              "      <td>1393611</td>\n",
              "      <td>145</td>\n",
              "      <td>146</td>\n",
              "      <td>2444</td>\n",
              "      <td>728.53</td>\n",
              "      <td>727.53</td>\n",
              "      <td>0</td>\n",
              "      <td>1</td>\n",
              "      <td>96</td>\n",
              "      <td>526</td>\n",
              "      <td>34</td>\n",
              "      <td>TYPE_B</td>\n",
              "      <td>5.0</td>\n",
              "      <td>Seafood</td>\n",
              "      <td>Continental</td>\n",
              "      <td>69938.88</td>\n",
              "    </tr>\n",
              "    <tr>\n",
              "      <th>15833</th>\n",
              "      <td>1169531</td>\n",
              "      <td>145</td>\n",
              "      <td>27</td>\n",
              "      <td>1993</td>\n",
              "      <td>156.17</td>\n",
              "      <td>151.38</td>\n",
              "      <td>0</td>\n",
              "      <td>1</td>\n",
              "      <td>337</td>\n",
              "      <td>713</td>\n",
              "      <td>85</td>\n",
              "      <td>TYPE_A</td>\n",
              "      <td>4.5</td>\n",
              "      <td>Beverages</td>\n",
              "      <td>Thai</td>\n",
              "      <td>52629.29</td>\n",
              "    </tr>\n",
              "    <tr>\n",
              "      <th>318529</th>\n",
              "      <td>1213771</td>\n",
              "      <td>145</td>\n",
              "      <td>51</td>\n",
              "      <td>2704</td>\n",
              "      <td>319.13</td>\n",
              "      <td>321.13</td>\n",
              "      <td>0</td>\n",
              "      <td>1</td>\n",
              "      <td>162</td>\n",
              "      <td>638</td>\n",
              "      <td>56</td>\n",
              "      <td>TYPE_A</td>\n",
              "      <td>7.0</td>\n",
              "      <td>Other Snacks</td>\n",
              "      <td>Thai</td>\n",
              "      <td>51699.06</td>\n",
              "    </tr>\n",
              "    <tr>\n",
              "      <th>244138</th>\n",
              "      <td>1069490</td>\n",
              "      <td>145</td>\n",
              "      <td>27</td>\n",
              "      <td>1558</td>\n",
              "      <td>564.60</td>\n",
              "      <td>548.08</td>\n",
              "      <td>0</td>\n",
              "      <td>1</td>\n",
              "      <td>135</td>\n",
              "      <td>713</td>\n",
              "      <td>85</td>\n",
              "      <td>TYPE_A</td>\n",
              "      <td>4.5</td>\n",
              "      <td>Pizza</td>\n",
              "      <td>Continental</td>\n",
              "      <td>76221.00</td>\n",
              "    </tr>\n",
              "  </tbody>\n",
              "</table>\n",
              "<p>30624 rows × 16 columns</p>\n",
              "</div>"
            ],
            "text/plain": [
              "             id  week  center_id  ...      category      cuisine  total_price\n",
              "299714  1102584     1         11  ...  Other Snacks         Thai    111550.00\n",
              "300141  1405620     1         13  ...  Other Snacks         Thai    291485.00\n",
              "301744  1220934     1         99  ...  Other Snacks         Thai     65988.50\n",
              "30705   1371071     1         10  ...     Beverages         Thai     86607.42\n",
              "299371  1045856     1         61  ...       Seafood  Continental     27084.80\n",
              "...         ...   ...        ...  ...           ...          ...          ...\n",
              "26894   1313072   145        106  ...     Beverages         Thai     32624.32\n",
              "283705  1393611   145        146  ...       Seafood  Continental     69938.88\n",
              "15833   1169531   145         27  ...     Beverages         Thai     52629.29\n",
              "318529  1213771   145         51  ...  Other Snacks         Thai     51699.06\n",
              "244138  1069490   145         27  ...         Pizza  Continental     76221.00\n",
              "\n",
              "[30624 rows x 16 columns]"
            ]
          },
          "metadata": {
            "tags": []
          },
          "execution_count": 80
        }
      ]
    },
    {
      "cell_type": "code",
      "metadata": {
        "colab": {
          "base_uri": "https://localhost:8080/",
          "height": 490
        },
        "id": "D-2wjfhKCH0K",
        "outputId": "7fc4130b-6773-4fcb-a0af-17c35a882e38"
      },
      "source": [
        "# Filtro na base de dados sem \"homepage_featured\"\te \"emailer_for_promotion\"\n",
        "\n",
        "total_orders_zero = df_final[(df_final['emailer_for_promotion']==0) & (df_final['homepage_featured']==0)]\n",
        "total_orders_zero"
      ],
      "execution_count": null,
      "outputs": [
        {
          "output_type": "execute_result",
          "data": {
            "text/html": [
              "<div>\n",
              "<style scoped>\n",
              "    .dataframe tbody tr th:only-of-type {\n",
              "        vertical-align: middle;\n",
              "    }\n",
              "\n",
              "    .dataframe tbody tr th {\n",
              "        vertical-align: top;\n",
              "    }\n",
              "\n",
              "    .dataframe thead th {\n",
              "        text-align: right;\n",
              "    }\n",
              "</style>\n",
              "<table border=\"1\" class=\"dataframe\">\n",
              "  <thead>\n",
              "    <tr style=\"text-align: right;\">\n",
              "      <th></th>\n",
              "      <th>id</th>\n",
              "      <th>week</th>\n",
              "      <th>center_id</th>\n",
              "      <th>meal_id</th>\n",
              "      <th>checkout_price</th>\n",
              "      <th>base_price</th>\n",
              "      <th>emailer_for_promotion</th>\n",
              "      <th>homepage_featured</th>\n",
              "      <th>num_orders</th>\n",
              "      <th>city_code</th>\n",
              "      <th>region_code</th>\n",
              "      <th>center_type</th>\n",
              "      <th>op_area</th>\n",
              "      <th>category</th>\n",
              "      <th>cuisine</th>\n",
              "      <th>total_price</th>\n",
              "    </tr>\n",
              "  </thead>\n",
              "  <tbody>\n",
              "    <tr>\n",
              "      <th>0</th>\n",
              "      <td>1379560</td>\n",
              "      <td>1</td>\n",
              "      <td>55</td>\n",
              "      <td>1885</td>\n",
              "      <td>136.83</td>\n",
              "      <td>152.29</td>\n",
              "      <td>0</td>\n",
              "      <td>0</td>\n",
              "      <td>177</td>\n",
              "      <td>647</td>\n",
              "      <td>56</td>\n",
              "      <td>TYPE_C</td>\n",
              "      <td>2.0</td>\n",
              "      <td>Beverages</td>\n",
              "      <td>Thai</td>\n",
              "      <td>24218.91</td>\n",
              "    </tr>\n",
              "    <tr>\n",
              "      <th>299851</th>\n",
              "      <td>1026447</td>\n",
              "      <td>1</td>\n",
              "      <td>83</td>\n",
              "      <td>1525</td>\n",
              "      <td>244.50</td>\n",
              "      <td>281.33</td>\n",
              "      <td>0</td>\n",
              "      <td>0</td>\n",
              "      <td>94</td>\n",
              "      <td>659</td>\n",
              "      <td>77</td>\n",
              "      <td>TYPE_A</td>\n",
              "      <td>5.3</td>\n",
              "      <td>Other Snacks</td>\n",
              "      <td>Thai</td>\n",
              "      <td>22983.00</td>\n",
              "    </tr>\n",
              "    <tr>\n",
              "      <th>299996</th>\n",
              "      <td>1177435</td>\n",
              "      <td>1</td>\n",
              "      <td>32</td>\n",
              "      <td>1525</td>\n",
              "      <td>249.29</td>\n",
              "      <td>251.29</td>\n",
              "      <td>0</td>\n",
              "      <td>0</td>\n",
              "      <td>82</td>\n",
              "      <td>526</td>\n",
              "      <td>34</td>\n",
              "      <td>TYPE_A</td>\n",
              "      <td>3.8</td>\n",
              "      <td>Other Snacks</td>\n",
              "      <td>Thai</td>\n",
              "      <td>20441.78</td>\n",
              "    </tr>\n",
              "    <tr>\n",
              "      <th>31140</th>\n",
              "      <td>1108310</td>\n",
              "      <td>1</td>\n",
              "      <td>43</td>\n",
              "      <td>2539</td>\n",
              "      <td>133.86</td>\n",
              "      <td>135.86</td>\n",
              "      <td>0</td>\n",
              "      <td>0</td>\n",
              "      <td>675</td>\n",
              "      <td>590</td>\n",
              "      <td>56</td>\n",
              "      <td>TYPE_A</td>\n",
              "      <td>5.1</td>\n",
              "      <td>Beverages</td>\n",
              "      <td>Thai</td>\n",
              "      <td>90355.50</td>\n",
              "    </tr>\n",
              "    <tr>\n",
              "      <th>300277</th>\n",
              "      <td>1008177</td>\n",
              "      <td>1</td>\n",
              "      <td>109</td>\n",
              "      <td>1525</td>\n",
              "      <td>242.50</td>\n",
              "      <td>282.33</td>\n",
              "      <td>0</td>\n",
              "      <td>0</td>\n",
              "      <td>217</td>\n",
              "      <td>599</td>\n",
              "      <td>56</td>\n",
              "      <td>TYPE_A</td>\n",
              "      <td>3.6</td>\n",
              "      <td>Other Snacks</td>\n",
              "      <td>Thai</td>\n",
              "      <td>52622.50</td>\n",
              "    </tr>\n",
              "    <tr>\n",
              "      <th>...</th>\n",
              "      <td>...</td>\n",
              "      <td>...</td>\n",
              "      <td>...</td>\n",
              "      <td>...</td>\n",
              "      <td>...</td>\n",
              "      <td>...</td>\n",
              "      <td>...</td>\n",
              "      <td>...</td>\n",
              "      <td>...</td>\n",
              "      <td>...</td>\n",
              "      <td>...</td>\n",
              "      <td>...</td>\n",
              "      <td>...</td>\n",
              "      <td>...</td>\n",
              "      <td>...</td>\n",
              "      <td>...</td>\n",
              "    </tr>\n",
              "    <tr>\n",
              "      <th>364068</th>\n",
              "      <td>1126639</td>\n",
              "      <td>145</td>\n",
              "      <td>39</td>\n",
              "      <td>1247</td>\n",
              "      <td>446.23</td>\n",
              "      <td>446.23</td>\n",
              "      <td>0</td>\n",
              "      <td>0</td>\n",
              "      <td>14</td>\n",
              "      <td>526</td>\n",
              "      <td>34</td>\n",
              "      <td>TYPE_C</td>\n",
              "      <td>3.8</td>\n",
              "      <td>Biryani</td>\n",
              "      <td>Indian</td>\n",
              "      <td>6247.22</td>\n",
              "    </tr>\n",
              "    <tr>\n",
              "      <th>243852</th>\n",
              "      <td>1476913</td>\n",
              "      <td>145</td>\n",
              "      <td>75</td>\n",
              "      <td>1558</td>\n",
              "      <td>548.08</td>\n",
              "      <td>549.08</td>\n",
              "      <td>0</td>\n",
              "      <td>0</td>\n",
              "      <td>175</td>\n",
              "      <td>651</td>\n",
              "      <td>77</td>\n",
              "      <td>TYPE_B</td>\n",
              "      <td>4.7</td>\n",
              "      <td>Pizza</td>\n",
              "      <td>Continental</td>\n",
              "      <td>95914.00</td>\n",
              "    </tr>\n",
              "    <tr>\n",
              "      <th>130329</th>\n",
              "      <td>1193828</td>\n",
              "      <td>145</td>\n",
              "      <td>97</td>\n",
              "      <td>2290</td>\n",
              "      <td>272.60</td>\n",
              "      <td>271.60</td>\n",
              "      <td>0</td>\n",
              "      <td>0</td>\n",
              "      <td>473</td>\n",
              "      <td>628</td>\n",
              "      <td>77</td>\n",
              "      <td>TYPE_A</td>\n",
              "      <td>4.6</td>\n",
              "      <td>Rice Bowl</td>\n",
              "      <td>Indian</td>\n",
              "      <td>128939.80</td>\n",
              "    </tr>\n",
              "    <tr>\n",
              "      <th>26604</th>\n",
              "      <td>1188974</td>\n",
              "      <td>145</td>\n",
              "      <td>27</td>\n",
              "      <td>2539</td>\n",
              "      <td>158.14</td>\n",
              "      <td>158.14</td>\n",
              "      <td>0</td>\n",
              "      <td>0</td>\n",
              "      <td>244</td>\n",
              "      <td>713</td>\n",
              "      <td>85</td>\n",
              "      <td>TYPE_A</td>\n",
              "      <td>4.5</td>\n",
              "      <td>Beverages</td>\n",
              "      <td>Thai</td>\n",
              "      <td>38586.16</td>\n",
              "    </tr>\n",
              "    <tr>\n",
              "      <th>456547</th>\n",
              "      <td>1443704</td>\n",
              "      <td>145</td>\n",
              "      <td>61</td>\n",
              "      <td>2104</td>\n",
              "      <td>581.03</td>\n",
              "      <td>582.03</td>\n",
              "      <td>0</td>\n",
              "      <td>0</td>\n",
              "      <td>27</td>\n",
              "      <td>473</td>\n",
              "      <td>77</td>\n",
              "      <td>TYPE_A</td>\n",
              "      <td>4.5</td>\n",
              "      <td>Fish</td>\n",
              "      <td>Continental</td>\n",
              "      <td>15687.81</td>\n",
              "    </tr>\n",
              "  </tbody>\n",
              "</table>\n",
              "<p>388874 rows × 16 columns</p>\n",
              "</div>"
            ],
            "text/plain": [
              "             id  week  center_id  ...      category      cuisine  total_price\n",
              "0       1379560     1         55  ...     Beverages         Thai     24218.91\n",
              "299851  1026447     1         83  ...  Other Snacks         Thai     22983.00\n",
              "299996  1177435     1         32  ...  Other Snacks         Thai     20441.78\n",
              "31140   1108310     1         43  ...     Beverages         Thai     90355.50\n",
              "300277  1008177     1        109  ...  Other Snacks         Thai     52622.50\n",
              "...         ...   ...        ...  ...           ...          ...          ...\n",
              "364068  1126639   145         39  ...       Biryani       Indian      6247.22\n",
              "243852  1476913   145         75  ...         Pizza  Continental     95914.00\n",
              "130329  1193828   145         97  ...     Rice Bowl       Indian    128939.80\n",
              "26604   1188974   145         27  ...     Beverages         Thai     38586.16\n",
              "456547  1443704   145         61  ...          Fish  Continental     15687.81\n",
              "\n",
              "[388874 rows x 16 columns]"
            ]
          },
          "metadata": {
            "tags": []
          },
          "execution_count": 81
        }
      ]
    },
    {
      "cell_type": "code",
      "metadata": {
        "colab": {
          "base_uri": "https://localhost:8080/"
        },
        "id": "IyNbsK6T_cJs",
        "outputId": "fb32e60f-306b-459f-84ff-ad508783825a"
      },
      "source": [
        "# Cálculo do total de pedidos acumulados\n",
        "\n",
        "df_final['num_orders'].sum()"
      ],
      "execution_count": null,
      "outputs": [
        {
          "output_type": "execute_result",
          "data": {
            "text/plain": [
              "119557485"
            ]
          },
          "metadata": {
            "tags": []
          },
          "execution_count": 82
        }
      ]
    },
    {
      "cell_type": "code",
      "metadata": {
        "colab": {
          "base_uri": "https://localhost:8080/"
        },
        "id": "vsEGOdZkBmiC",
        "outputId": "988bce1c-a65b-4a7e-a002-0ba42627c961"
      },
      "source": [
        "total_orders_email['num_orders'].sum()"
      ],
      "execution_count": null,
      "outputs": [
        {
          "output_type": "execute_result",
          "data": {
            "text/plain": [
              "7684936"
            ]
          },
          "metadata": {
            "tags": []
          },
          "execution_count": 83
        }
      ]
    },
    {
      "cell_type": "code",
      "metadata": {
        "colab": {
          "base_uri": "https://localhost:8080/"
        },
        "id": "82XqU7fhB2eZ",
        "outputId": "0e1b2546-5ab3-4356-ef67-ee3cbdf9cb53"
      },
      "source": [
        "total_orders_hp['num_orders'].sum()"
      ],
      "execution_count": null,
      "outputs": [
        {
          "output_type": "execute_result",
          "data": {
            "text/plain": [
              "13960753"
            ]
          },
          "metadata": {
            "tags": []
          },
          "execution_count": 84
        }
      ]
    },
    {
      "cell_type": "code",
      "metadata": {
        "colab": {
          "base_uri": "https://localhost:8080/"
        },
        "id": "xWa0WqNyCfJy",
        "outputId": "3a86e45b-1e25-4071-f161-81416a0831b1"
      },
      "source": [
        "total_orders_zero['num_orders'].sum()"
      ],
      "execution_count": null,
      "outputs": [
        {
          "output_type": "execute_result",
          "data": {
            "text/plain": [
              "82214568"
            ]
          },
          "metadata": {
            "tags": []
          },
          "execution_count": 85
        }
      ]
    },
    {
      "cell_type": "markdown",
      "metadata": {
        "id": "ZDgrZxvaCpxT"
      },
      "source": [
        "**Verifica-se então que existem mais pedidos feitos quando há divulgação na homepage do que comparado com o e-mail, entretanto a grande maioria dos pedidos são feitos quando não há divulgação em nenhum dos dois meios, portanto a empresa poderia focar em aumentar a divulgação nas mídias, visto que existe uma correlação positiva.**"
      ]
    },
    {
      "cell_type": "markdown",
      "metadata": {
        "id": "jcyHr07dyAdc"
      },
      "source": [
        "## **Tendência**"
      ]
    },
    {
      "cell_type": "code",
      "metadata": {
        "colab": {
          "base_uri": "https://localhost:8080/"
        },
        "id": "S5qslMcBRc_u",
        "outputId": "89322920-7b9d-4990-b1ae-d9cb8186a588"
      },
      "source": [
        "# Cálculo do número de pedidos acumulados por semana\n",
        "\n",
        "total_orders_wk = df_final.groupby(['week'])['num_orders'].sum()\n",
        "total_orders_wk"
      ],
      "execution_count": null,
      "outputs": [
        {
          "output_type": "execute_result",
          "data": {
            "text/plain": [
              "week\n",
              "1       792261\n",
              "2       787084\n",
              "3       695262\n",
              "4       743529\n",
              "5      1198675\n",
              "        ...   \n",
              "141     776240\n",
              "142     739661\n",
              "143     759926\n",
              "144     801197\n",
              "145     671926\n",
              "Name: num_orders, Length: 145, dtype: int64"
            ]
          },
          "metadata": {
            "tags": []
          },
          "execution_count": 86
        }
      ]
    },
    {
      "cell_type": "code",
      "metadata": {
        "colab": {
          "base_uri": "https://localhost:8080/",
          "height": 416
        },
        "id": "o6xqQ3z5LmrN",
        "outputId": "f4684527-389a-44b0-f32c-52f964e49af1"
      },
      "source": [
        "# Gráfico de número de pedidos acumulados (semana) X tempo\n",
        "\n",
        "sns.set_style(\"darkgrid\")\n",
        "\n",
        "fig_dims = (18, 6)\n",
        "fig, ax = plt.subplots(figsize=fig_dims)\n",
        "sns.lineplot(data=total_orders_wk, x=total_orders_wk.index, y=total_orders_wk.values, ax=ax)"
      ],
      "execution_count": null,
      "outputs": [
        {
          "output_type": "execute_result",
          "data": {
            "text/plain": [
              "<matplotlib.axes._subplots.AxesSubplot at 0x7fd05cc99a58>"
            ]
          },
          "metadata": {
            "tags": []
          },
          "execution_count": 87
        },
        {
          "output_type": "display_data",
          "data": {
            "image/png": "[encoded data removed]",
            "text/plain": [
              "<Figure size 1296x432 with 1 Axes>"
            ]
          },
          "metadata": {
            "tags": []
          }
        }
      ]
    },
    {
      "cell_type": "code",
      "metadata": {
        "colab": {
          "base_uri": "https://localhost:8080/",
          "height": 450
        },
        "id": "RRX36kEgmuMz",
        "outputId": "82ed9414-f361-4618-f025-72b4428b42b1"
      },
      "source": [
        "# Cálculo da média móvel de 4\n",
        "\n",
        "trend = pd.DataFrame(total_orders_wk)\n",
        "\n",
        "trend['MA'] = trend.rolling(window=4).mean()\n",
        "trend"
      ],
      "execution_count": null,
      "outputs": [
        {
          "output_type": "execute_result",
          "data": {
            "text/html": [
              "<div>\n",
              "<style scoped>\n",
              "    .dataframe tbody tr th:only-of-type {\n",
              "        vertical-align: middle;\n",
              "    }\n",
              "\n",
              "    .dataframe tbody tr th {\n",
              "        vertical-align: top;\n",
              "    }\n",
              "\n",
              "    .dataframe thead th {\n",
              "        text-align: right;\n",
              "    }\n",
              "</style>\n",
              "<table border=\"1\" class=\"dataframe\">\n",
              "  <thead>\n",
              "    <tr style=\"text-align: right;\">\n",
              "      <th></th>\n",
              "      <th>num_orders</th>\n",
              "      <th>MA</th>\n",
              "    </tr>\n",
              "    <tr>\n",
              "      <th>week</th>\n",
              "      <th></th>\n",
              "      <th></th>\n",
              "    </tr>\n",
              "  </thead>\n",
              "  <tbody>\n",
              "    <tr>\n",
              "      <th>1</th>\n",
              "      <td>792261</td>\n",
              "      <td>NaN</td>\n",
              "    </tr>\n",
              "    <tr>\n",
              "      <th>2</th>\n",
              "      <td>787084</td>\n",
              "      <td>NaN</td>\n",
              "    </tr>\n",
              "    <tr>\n",
              "      <th>3</th>\n",
              "      <td>695262</td>\n",
              "      <td>NaN</td>\n",
              "    </tr>\n",
              "    <tr>\n",
              "      <th>4</th>\n",
              "      <td>743529</td>\n",
              "      <td>754534.00</td>\n",
              "    </tr>\n",
              "    <tr>\n",
              "      <th>5</th>\n",
              "      <td>1198675</td>\n",
              "      <td>856137.50</td>\n",
              "    </tr>\n",
              "    <tr>\n",
              "      <th>...</th>\n",
              "      <td>...</td>\n",
              "      <td>...</td>\n",
              "    </tr>\n",
              "    <tr>\n",
              "      <th>141</th>\n",
              "      <td>776240</td>\n",
              "      <td>749551.75</td>\n",
              "    </tr>\n",
              "    <tr>\n",
              "      <th>142</th>\n",
              "      <td>739661</td>\n",
              "      <td>767631.25</td>\n",
              "    </tr>\n",
              "    <tr>\n",
              "      <th>143</th>\n",
              "      <td>759926</td>\n",
              "      <td>769629.00</td>\n",
              "    </tr>\n",
              "    <tr>\n",
              "      <th>144</th>\n",
              "      <td>801197</td>\n",
              "      <td>769256.00</td>\n",
              "    </tr>\n",
              "    <tr>\n",
              "      <th>145</th>\n",
              "      <td>671926</td>\n",
              "      <td>743177.50</td>\n",
              "    </tr>\n",
              "  </tbody>\n",
              "</table>\n",
              "<p>145 rows × 2 columns</p>\n",
              "</div>"
            ],
            "text/plain": [
              "      num_orders         MA\n",
              "week                       \n",
              "1         792261        NaN\n",
              "2         787084        NaN\n",
              "3         695262        NaN\n",
              "4         743529  754534.00\n",
              "5        1198675  856137.50\n",
              "...          ...        ...\n",
              "141       776240  749551.75\n",
              "142       739661  767631.25\n",
              "143       759926  769629.00\n",
              "144       801197  769256.00\n",
              "145       671926  743177.50\n",
              "\n",
              "[145 rows x 2 columns]"
            ]
          },
          "metadata": {
            "tags": []
          },
          "execution_count": 88
        }
      ]
    },
    {
      "cell_type": "code",
      "metadata": {
        "colab": {
          "base_uri": "https://localhost:8080/",
          "height": 508
        },
        "id": "4NIicFdnnEfH",
        "outputId": "62ef7eaa-d924-4293-9efc-b58b90ec1a75"
      },
      "source": [
        "# Gráfico da média móvel de 4\n",
        "\n",
        "fig_dims = (24, 8)\n",
        "fig, ax = plt.subplots(figsize=fig_dims)\n",
        "graph = sns.lineplot(data=trend, x='week', y='MA', ax=ax)\n",
        "graph.set_xticks(range(0,150,5));"
      ],
      "execution_count": null,
      "outputs": [
        {
          "output_type": "display_data",
          "data": {
            "image/png": "[encoded data removed]",
            "text/plain": [
              "<Figure size 1728x576 with 1 Axes>"
            ]
          },
          "metadata": {
            "tags": []
          }
        }
      ]
    },
    {
      "cell_type": "markdown",
      "metadata": {
        "id": "wTbIbCda2Igz"
      },
      "source": [
        "**Máximas e mínimas locais separados por ~10 semanas, o que pode indicar sazonalidade.**"
      ]
    },
    {
      "cell_type": "code",
      "metadata": {
        "id": "0UQH_uqCZEZH"
      },
      "source": [
        "# Cálculo do número de pedidos acumulados por semana por culinária\n",
        "\n",
        "total_orders_cuisine = df_final[['week', 'cuisine', 'num_orders']]"
      ],
      "execution_count": null,
      "outputs": []
    },
    {
      "cell_type": "code",
      "metadata": {
        "colab": {
          "base_uri": "https://localhost:8080/",
          "height": 296
        },
        "id": "58gsZ2IbZMiF",
        "outputId": "a6e6ab82-e7c6-4f8d-e4b2-592ef3aa673f"
      },
      "source": [
        "total_orders_italian = total_orders_cuisine[total_orders_cuisine['cuisine']=='Italian']\n",
        "total_orders_italian = total_orders_italian.groupby(['week'])['num_orders'].sum()\n",
        "\n",
        "sns.lineplot(data=total_orders_italian, x=total_orders_italian.index, y=total_orders_italian.values)"
      ],
      "execution_count": null,
      "outputs": [
        {
          "output_type": "execute_result",
          "data": {
            "text/plain": [
              "<matplotlib.axes._subplots.AxesSubplot at 0x7fd06566b588>"
            ]
          },
          "metadata": {
            "tags": []
          },
          "execution_count": 113
        },
        {
          "output_type": "display_data",
          "data": {
            "image/png": "[encoded data removed]",
            "text/plain": [
              "<Figure size 432x288 with 1 Axes>"
            ]
          },
          "metadata": {
            "tags": []
          }
        }
      ]
    },
    {
      "cell_type": "code",
      "metadata": {
        "colab": {
          "base_uri": "https://localhost:8080/",
          "height": 299
        },
        "id": "Y1UDjNVicMky",
        "outputId": "4a8c98f5-3a8d-4a79-e57a-c148005334cd"
      },
      "source": [
        "total_orders_cont = total_orders_cuisine[total_orders_cuisine['cuisine']=='Continental']\n",
        "total_orders_cont = total_orders_cont.groupby(['week'])['num_orders'].sum()\n",
        "\n",
        "sns.lineplot(data=total_orders_cont, x=total_orders_cont.index, y=total_orders_cont.values)"
      ],
      "execution_count": null,
      "outputs": [
        {
          "output_type": "execute_result",
          "data": {
            "text/plain": [
              "<matplotlib.axes._subplots.AxesSubplot at 0x7fd05c498f28>"
            ]
          },
          "metadata": {
            "tags": []
          },
          "execution_count": 114
        },
        {
          "output_type": "display_data",
          "data": {
            "image/png": "[encoded data removed]",
            "text/plain": [
              "<Figure size 432x288 with 1 Axes>"
            ]
          },
          "metadata": {
            "tags": []
          }
        }
      ]
    },
    {
      "cell_type": "code",
      "metadata": {
        "colab": {
          "base_uri": "https://localhost:8080/",
          "height": 296
        },
        "id": "zad3R2KzdVhJ",
        "outputId": "dac87d1c-7af7-4dda-ff56-0130f0720ec7"
      },
      "source": [
        "total_orders_ind = total_orders_cuisine[total_orders_cuisine['cuisine']=='Indian']\n",
        "total_orders_ind = total_orders_ind.groupby(['week'])['num_orders'].sum()\n",
        "\n",
        "sns.lineplot(data=total_orders_ind, x=total_orders_ind.index, y=total_orders_ind.values)"
      ],
      "execution_count": null,
      "outputs": [
        {
          "output_type": "execute_result",
          "data": {
            "text/plain": [
              "<matplotlib.axes._subplots.AxesSubplot at 0x7fd05c459710>"
            ]
          },
          "metadata": {
            "tags": []
          },
          "execution_count": 115
        },
        {
          "output_type": "display_data",
          "data": {
            "image/png": "[encoded data removed]",
            "text/plain": [
              "<Figure size 432x288 with 1 Axes>"
            ]
          },
          "metadata": {
            "tags": []
          }
        }
      ]
    },
    {
      "cell_type": "code",
      "metadata": {
        "colab": {
          "base_uri": "https://localhost:8080/",
          "height": 296
        },
        "id": "98Eyp74tdVG_",
        "outputId": "6a51ab11-0cd3-40d2-8615-58106708d275"
      },
      "source": [
        "total_orders_thai = total_orders_cuisine[total_orders_cuisine['cuisine']=='Thai']\n",
        "total_orders_thai = total_orders_thai.groupby(['week'])['num_orders'].sum()\n",
        "\n",
        "sns.lineplot(data=total_orders_thai, x=total_orders_thai.index, y=total_orders_thai.values)"
      ],
      "execution_count": null,
      "outputs": [
        {
          "output_type": "execute_result",
          "data": {
            "text/plain": [
              "<matplotlib.axes._subplots.AxesSubplot at 0x7fd05c439b38>"
            ]
          },
          "metadata": {
            "tags": []
          },
          "execution_count": 116
        },
        {
          "output_type": "display_data",
          "data": {
            "image/png": "[encoded data removed]",
            "text/plain": [
              "<Figure size 432x288 with 1 Axes>"
            ]
          },
          "metadata": {
            "tags": []
          }
        }
      ]
    },
    {
      "cell_type": "code",
      "metadata": {
        "colab": {
          "base_uri": "https://localhost:8080/"
        },
        "id": "Q5wCg3QARLnA",
        "outputId": "f25983ee-2838-49ee-c7dd-7aa4b1ba3400"
      },
      "source": [
        "total_orders_wk.index = pd.date_range(start='1/1/2018', periods=145, freq='W')\n",
        "total_orders_wk"
      ],
      "execution_count": null,
      "outputs": [
        {
          "output_type": "execute_result",
          "data": {
            "text/plain": [
              "2018-01-07     792261\n",
              "2018-01-14     787084\n",
              "2018-01-21     695262\n",
              "2018-01-28     743529\n",
              "2018-02-04    1198675\n",
              "               ...   \n",
              "2020-09-13     776240\n",
              "2020-09-20     739661\n",
              "2020-09-27     759926\n",
              "2020-10-04     801197\n",
              "2020-10-11     671926\n",
              "Freq: W-SUN, Name: num_orders, Length: 145, dtype: int64"
            ]
          },
          "metadata": {
            "tags": []
          },
          "execution_count": 90
        }
      ]
    },
    {
      "cell_type": "code",
      "metadata": {
        "colab": {
          "base_uri": "https://localhost:8080/",
          "height": 614
        },
        "id": "pMPlUakuuGcH",
        "outputId": "c7bc8b43-3629-4969-bdba-c862cc5c3a37"
      },
      "source": [
        "# Decomposição de série temporal (Level, Trend, Seasonality e Noise)\n",
        "\n",
        "import statsmodels.api as sm\n",
        "res = sm.tsa.seasonal_decompose(x=total_orders_wk, model='additive')\n",
        "\n",
        "fig, axes = plt.subplots(nrows=4, sharex=True, figsize=(20, 10))\n",
        "\n",
        "res.observed.plot(ax=axes[0], legend=False)\n",
        "axes[0].set_ylabel('Observed')\n",
        "res.trend.plot(ax=axes[1], legend=False)\n",
        "axes[1].set_ylabel('Trend')\n",
        "res.seasonal.plot(ax=axes[2], legend=False)\n",
        "axes[2].set_ylabel('Seasonal')\n",
        "res.resid.plot(ax=axes[3], legend=False)\n",
        "axes[3].set_ylabel('Residual')\n",
        "plt.show()"
      ],
      "execution_count": null,
      "outputs": [
        {
          "output_type": "display_data",
          "data": {
            "image/png": "[encoded data removed]",
            "text/plain": [
              "<Figure size 1440x720 with 4 Axes>"
            ]
          },
          "metadata": {
            "tags": []
          }
        }
      ]
    }
  ]
}